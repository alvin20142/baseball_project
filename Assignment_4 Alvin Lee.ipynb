{
 "cells": [
  {
   "cell_type": "markdown",
   "metadata": {
    "colab_type": "text",
    "id": "oTumct0bzHjq"
   },
   "source": [
    "## Introduction"
   ]
  },
  {
   "cell_type": "markdown",
   "metadata": {
    "colab_type": "text",
    "id": "9mjoBdf7zP1-"
   },
   "source": [
    "\"Every strike brings me closer to the next home run.\" - Babe Ruth\n",
    "\n",
    "Every team in the MLB would like to make it to the playoffs but the Toronto Blue Jays are on a tight budget and has asked us to figure out how to succeed in scouting players so that they have a better chance in the playoffs with the limitations."
   ]
  },
  {
   "cell_type": "markdown",
   "metadata": {
    "colab_type": "text",
    "id": "2xtCfLWnN0AW"
   },
   "source": [
    "### Data and Library Import"
   ]
  },
  {
   "cell_type": "markdown",
   "metadata": {
    "colab_type": "text",
    "id": "6L_Lfzen6zK7"
   },
   "source": [
    "Here we import all the necessary Libraries as well as the dataset from Google Drive."
   ]
  },
  {
   "cell_type": "code",
   "execution_count": 6,
   "metadata": {
    "colab": {
     "base_uri": "https://localhost:8080/",
     "height": 0
    },
    "colab_type": "code",
    "id": "gC-fCduLAf6o",
    "outputId": "aef2392b-73c5-4bf4-8131-725bc466d437"
   },
   "outputs": [],
   "source": [
    "import pandas as pd\n",
    "import numpy as np\n",
    "import datetime\n",
    "from google.colab import drive\n",
    "import matplotlib.pyplot as plt\n",
    "import seaborn as sb\n",
    "from statsmodels import regression\n",
    "import statsmodels.api as sm\n",
    "from sklearn.model_selection import train_test_split\n",
    "from sklearn.preprocessing import StandardScaler\n",
    "from sklearn.metrics import r2_score\n",
    "from sklearn.feature_selection import SelectFromModel\n",
    "from sklearn.linear_model import Lasso, LogisticRegression\n",
    "from sklearn.linear_model import LinearRegression\n",
    "from sklearn.pipeline import Pipeline\n",
    "from sklearn.model_selection import cross_validate"
   ]
  },
  {
   "cell_type": "code",
   "execution_count": 2,
   "metadata": {
    "colab": {
     "base_uri": "https://localhost:8080/",
     "height": 0
    },
    "colab_type": "code",
    "id": "3qv5oI17ljdC",
    "outputId": "32dffc1d-051b-4142-eca0-9df08a92fc9f"
   },
   "outputs": [
    {
     "name": "stdout",
     "output_type": "stream",
     "text": [
      "Drive already mounted at /content/Drive; to attempt to forcibly remount, call drive.mount(\"/content/Drive\", force_remount=True).\n"
     ]
    }
   ],
   "source": [
    "drive.mount('/content/Drive')"
   ]
  },
  {
   "cell_type": "code",
   "execution_count": 0,
   "metadata": {
    "colab": {},
    "colab_type": "code",
    "id": "L9FhI9QpZZ9S"
   },
   "outputs": [],
   "source": [
    "baseball_df=pd.read_csv('/content/Drive/My Drive/baseball.csv',low_memory=False)"
   ]
  },
  {
   "cell_type": "markdown",
   "metadata": {
    "colab_type": "text",
    "id": "0JqpM96wlncx"
   },
   "source": [
    "## Data Examination"
   ]
  },
  {
   "cell_type": "markdown",
   "metadata": {
    "colab_type": "text",
    "id": "pWNPNL5gLEva"
   },
   "source": [
    "Here we are looking at the dataset to see how big it is, what data they contain as well as what type of data they are."
   ]
  },
  {
   "cell_type": "code",
   "execution_count": 8,
   "metadata": {
    "colab": {
     "base_uri": "https://localhost:8080/",
     "height": 391
    },
    "colab_type": "code",
    "id": "Aqb4qgTHlriE",
    "outputId": "3687a99b-7e2f-48ad-8f09-27a9153f6e77"
   },
   "outputs": [
    {
     "name": "stdout",
     "output_type": "stream",
     "text": [
      "<class 'pandas.core.frame.DataFrame'>\n",
      "RangeIndex: 1232 entries, 0 to 1231\n",
      "Data columns (total 15 columns):\n",
      " #   Column        Non-Null Count  Dtype  \n",
      "---  ------        --------------  -----  \n",
      " 0   Team          1232 non-null   object \n",
      " 1   League        1232 non-null   object \n",
      " 2   Year          1232 non-null   int64  \n",
      " 3   RS            1232 non-null   int64  \n",
      " 4   RA            1232 non-null   int64  \n",
      " 5   W             1232 non-null   int64  \n",
      " 6   OBP           1232 non-null   float64\n",
      " 7   SLG           1232 non-null   float64\n",
      " 8   BA            1232 non-null   float64\n",
      " 9   Playoffs      1232 non-null   int64  \n",
      " 10  RankSeason    244 non-null    float64\n",
      " 11  RankPlayoffs  244 non-null    float64\n",
      " 12  G             1232 non-null   int64  \n",
      " 13  OOBP          420 non-null    float64\n",
      " 14  OSLG          420 non-null    float64\n",
      "dtypes: float64(7), int64(6), object(2)\n",
      "memory usage: 144.5+ KB\n"
     ]
    }
   ],
   "source": [
    "baseball_df.info()"
   ]
  },
  {
   "cell_type": "code",
   "execution_count": 9,
   "metadata": {
    "colab": {
     "base_uri": "https://localhost:8080/",
     "height": 204
    },
    "colab_type": "code",
    "id": "bpmnwbQiE2hF",
    "outputId": "ea1614f9-9eab-475c-a06c-7914ede86dbf"
   },
   "outputs": [
    {
     "data": {
      "text/html": [
       "<div>\n",
       "<style scoped>\n",
       "    .dataframe tbody tr th:only-of-type {\n",
       "        vertical-align: middle;\n",
       "    }\n",
       "\n",
       "    .dataframe tbody tr th {\n",
       "        vertical-align: top;\n",
       "    }\n",
       "\n",
       "    .dataframe thead th {\n",
       "        text-align: right;\n",
       "    }\n",
       "</style>\n",
       "<table border=\"1\" class=\"dataframe\">\n",
       "  <thead>\n",
       "    <tr style=\"text-align: right;\">\n",
       "      <th></th>\n",
       "      <th>Team</th>\n",
       "      <th>League</th>\n",
       "      <th>Year</th>\n",
       "      <th>RS</th>\n",
       "      <th>RA</th>\n",
       "      <th>W</th>\n",
       "      <th>OBP</th>\n",
       "      <th>SLG</th>\n",
       "      <th>BA</th>\n",
       "      <th>Playoffs</th>\n",
       "      <th>RankSeason</th>\n",
       "      <th>RankPlayoffs</th>\n",
       "      <th>G</th>\n",
       "      <th>OOBP</th>\n",
       "      <th>OSLG</th>\n",
       "    </tr>\n",
       "  </thead>\n",
       "  <tbody>\n",
       "    <tr>\n",
       "      <th>0</th>\n",
       "      <td>ARI</td>\n",
       "      <td>NL</td>\n",
       "      <td>2012</td>\n",
       "      <td>734</td>\n",
       "      <td>688</td>\n",
       "      <td>81</td>\n",
       "      <td>0.328</td>\n",
       "      <td>0.418</td>\n",
       "      <td>0.259</td>\n",
       "      <td>0</td>\n",
       "      <td>NaN</td>\n",
       "      <td>NaN</td>\n",
       "      <td>162</td>\n",
       "      <td>0.317</td>\n",
       "      <td>0.415</td>\n",
       "    </tr>\n",
       "    <tr>\n",
       "      <th>1</th>\n",
       "      <td>ATL</td>\n",
       "      <td>NL</td>\n",
       "      <td>2012</td>\n",
       "      <td>700</td>\n",
       "      <td>600</td>\n",
       "      <td>94</td>\n",
       "      <td>0.320</td>\n",
       "      <td>0.389</td>\n",
       "      <td>0.247</td>\n",
       "      <td>1</td>\n",
       "      <td>4.0</td>\n",
       "      <td>5.0</td>\n",
       "      <td>162</td>\n",
       "      <td>0.306</td>\n",
       "      <td>0.378</td>\n",
       "    </tr>\n",
       "    <tr>\n",
       "      <th>2</th>\n",
       "      <td>BAL</td>\n",
       "      <td>AL</td>\n",
       "      <td>2012</td>\n",
       "      <td>712</td>\n",
       "      <td>705</td>\n",
       "      <td>93</td>\n",
       "      <td>0.311</td>\n",
       "      <td>0.417</td>\n",
       "      <td>0.247</td>\n",
       "      <td>1</td>\n",
       "      <td>5.0</td>\n",
       "      <td>4.0</td>\n",
       "      <td>162</td>\n",
       "      <td>0.315</td>\n",
       "      <td>0.403</td>\n",
       "    </tr>\n",
       "    <tr>\n",
       "      <th>3</th>\n",
       "      <td>BOS</td>\n",
       "      <td>AL</td>\n",
       "      <td>2012</td>\n",
       "      <td>734</td>\n",
       "      <td>806</td>\n",
       "      <td>69</td>\n",
       "      <td>0.315</td>\n",
       "      <td>0.415</td>\n",
       "      <td>0.260</td>\n",
       "      <td>0</td>\n",
       "      <td>NaN</td>\n",
       "      <td>NaN</td>\n",
       "      <td>162</td>\n",
       "      <td>0.331</td>\n",
       "      <td>0.428</td>\n",
       "    </tr>\n",
       "    <tr>\n",
       "      <th>4</th>\n",
       "      <td>CHC</td>\n",
       "      <td>NL</td>\n",
       "      <td>2012</td>\n",
       "      <td>613</td>\n",
       "      <td>759</td>\n",
       "      <td>61</td>\n",
       "      <td>0.302</td>\n",
       "      <td>0.378</td>\n",
       "      <td>0.240</td>\n",
       "      <td>0</td>\n",
       "      <td>NaN</td>\n",
       "      <td>NaN</td>\n",
       "      <td>162</td>\n",
       "      <td>0.335</td>\n",
       "      <td>0.424</td>\n",
       "    </tr>\n",
       "  </tbody>\n",
       "</table>\n",
       "</div>"
      ],
      "text/plain": [
       "  Team League  Year   RS   RA   W    OBP    SLG     BA  Playoffs  RankSeason  \\\n",
       "0  ARI     NL  2012  734  688  81  0.328  0.418  0.259         0         NaN   \n",
       "1  ATL     NL  2012  700  600  94  0.320  0.389  0.247         1         4.0   \n",
       "2  BAL     AL  2012  712  705  93  0.311  0.417  0.247         1         5.0   \n",
       "3  BOS     AL  2012  734  806  69  0.315  0.415  0.260         0         NaN   \n",
       "4  CHC     NL  2012  613  759  61  0.302  0.378  0.240         0         NaN   \n",
       "\n",
       "   RankPlayoffs    G   OOBP   OSLG  \n",
       "0           NaN  162  0.317  0.415  \n",
       "1           5.0  162  0.306  0.378  \n",
       "2           4.0  162  0.315  0.403  \n",
       "3           NaN  162  0.331  0.428  \n",
       "4           NaN  162  0.335  0.424  "
      ]
     },
     "execution_count": 9,
     "metadata": {},
     "output_type": "execute_result"
    }
   ],
   "source": [
    "baseball_df.head()"
   ]
  },
  {
   "cell_type": "code",
   "execution_count": 10,
   "metadata": {
    "colab": {
     "base_uri": "https://localhost:8080/",
     "height": 204
    },
    "colab_type": "code",
    "id": "MFoWQeoXdYvg",
    "outputId": "dd72d200-dc11-4364-9551-f5ef96f6cf4d"
   },
   "outputs": [
    {
     "data": {
      "text/html": [
       "<div>\n",
       "<style scoped>\n",
       "    .dataframe tbody tr th:only-of-type {\n",
       "        vertical-align: middle;\n",
       "    }\n",
       "\n",
       "    .dataframe tbody tr th {\n",
       "        vertical-align: top;\n",
       "    }\n",
       "\n",
       "    .dataframe thead th {\n",
       "        text-align: right;\n",
       "    }\n",
       "</style>\n",
       "<table border=\"1\" class=\"dataframe\">\n",
       "  <thead>\n",
       "    <tr style=\"text-align: right;\">\n",
       "      <th></th>\n",
       "      <th>Team</th>\n",
       "      <th>League</th>\n",
       "      <th>Year</th>\n",
       "      <th>RS</th>\n",
       "      <th>RA</th>\n",
       "      <th>W</th>\n",
       "      <th>OBP</th>\n",
       "      <th>SLG</th>\n",
       "      <th>BA</th>\n",
       "      <th>Playoffs</th>\n",
       "      <th>RankSeason</th>\n",
       "      <th>RankPlayoffs</th>\n",
       "      <th>G</th>\n",
       "      <th>OOBP</th>\n",
       "      <th>OSLG</th>\n",
       "    </tr>\n",
       "  </thead>\n",
       "  <tbody>\n",
       "    <tr>\n",
       "      <th>1227</th>\n",
       "      <td>PHI</td>\n",
       "      <td>NL</td>\n",
       "      <td>1962</td>\n",
       "      <td>705</td>\n",
       "      <td>759</td>\n",
       "      <td>81</td>\n",
       "      <td>0.330</td>\n",
       "      <td>0.390</td>\n",
       "      <td>0.260</td>\n",
       "      <td>0</td>\n",
       "      <td>NaN</td>\n",
       "      <td>NaN</td>\n",
       "      <td>161</td>\n",
       "      <td>NaN</td>\n",
       "      <td>NaN</td>\n",
       "    </tr>\n",
       "    <tr>\n",
       "      <th>1228</th>\n",
       "      <td>PIT</td>\n",
       "      <td>NL</td>\n",
       "      <td>1962</td>\n",
       "      <td>706</td>\n",
       "      <td>626</td>\n",
       "      <td>93</td>\n",
       "      <td>0.321</td>\n",
       "      <td>0.394</td>\n",
       "      <td>0.268</td>\n",
       "      <td>0</td>\n",
       "      <td>NaN</td>\n",
       "      <td>NaN</td>\n",
       "      <td>161</td>\n",
       "      <td>NaN</td>\n",
       "      <td>NaN</td>\n",
       "    </tr>\n",
       "    <tr>\n",
       "      <th>1229</th>\n",
       "      <td>SFG</td>\n",
       "      <td>NL</td>\n",
       "      <td>1962</td>\n",
       "      <td>878</td>\n",
       "      <td>690</td>\n",
       "      <td>103</td>\n",
       "      <td>0.341</td>\n",
       "      <td>0.441</td>\n",
       "      <td>0.278</td>\n",
       "      <td>1</td>\n",
       "      <td>1.0</td>\n",
       "      <td>2.0</td>\n",
       "      <td>165</td>\n",
       "      <td>NaN</td>\n",
       "      <td>NaN</td>\n",
       "    </tr>\n",
       "    <tr>\n",
       "      <th>1230</th>\n",
       "      <td>STL</td>\n",
       "      <td>NL</td>\n",
       "      <td>1962</td>\n",
       "      <td>774</td>\n",
       "      <td>664</td>\n",
       "      <td>84</td>\n",
       "      <td>0.335</td>\n",
       "      <td>0.394</td>\n",
       "      <td>0.271</td>\n",
       "      <td>0</td>\n",
       "      <td>NaN</td>\n",
       "      <td>NaN</td>\n",
       "      <td>163</td>\n",
       "      <td>NaN</td>\n",
       "      <td>NaN</td>\n",
       "    </tr>\n",
       "    <tr>\n",
       "      <th>1231</th>\n",
       "      <td>WSA</td>\n",
       "      <td>AL</td>\n",
       "      <td>1962</td>\n",
       "      <td>599</td>\n",
       "      <td>716</td>\n",
       "      <td>60</td>\n",
       "      <td>0.308</td>\n",
       "      <td>0.373</td>\n",
       "      <td>0.250</td>\n",
       "      <td>0</td>\n",
       "      <td>NaN</td>\n",
       "      <td>NaN</td>\n",
       "      <td>162</td>\n",
       "      <td>NaN</td>\n",
       "      <td>NaN</td>\n",
       "    </tr>\n",
       "  </tbody>\n",
       "</table>\n",
       "</div>"
      ],
      "text/plain": [
       "     Team League  Year   RS   RA    W    OBP    SLG     BA  Playoffs  \\\n",
       "1227  PHI     NL  1962  705  759   81  0.330  0.390  0.260         0   \n",
       "1228  PIT     NL  1962  706  626   93  0.321  0.394  0.268         0   \n",
       "1229  SFG     NL  1962  878  690  103  0.341  0.441  0.278         1   \n",
       "1230  STL     NL  1962  774  664   84  0.335  0.394  0.271         0   \n",
       "1231  WSA     AL  1962  599  716   60  0.308  0.373  0.250         0   \n",
       "\n",
       "      RankSeason  RankPlayoffs    G  OOBP  OSLG  \n",
       "1227         NaN           NaN  161   NaN   NaN  \n",
       "1228         NaN           NaN  161   NaN   NaN  \n",
       "1229         1.0           2.0  165   NaN   NaN  \n",
       "1230         NaN           NaN  163   NaN   NaN  \n",
       "1231         NaN           NaN  162   NaN   NaN  "
      ]
     },
     "execution_count": 10,
     "metadata": {},
     "output_type": "execute_result"
    }
   ],
   "source": [
    "baseball_df.tail()"
   ]
  },
  {
   "cell_type": "code",
   "execution_count": 11,
   "metadata": {
    "colab": {
     "base_uri": "https://localhost:8080/",
     "height": 289
    },
    "colab_type": "code",
    "id": "g51-kPQedqCl",
    "outputId": "6d168962-8de9-4169-a09f-e7d992d1926f"
   },
   "outputs": [
    {
     "data": {
      "text/plain": [
       "Team              0\n",
       "League            0\n",
       "Year              0\n",
       "RS                0\n",
       "RA                0\n",
       "W                 0\n",
       "OBP               0\n",
       "SLG               0\n",
       "BA                0\n",
       "Playoffs          0\n",
       "RankSeason      988\n",
       "RankPlayoffs    988\n",
       "G                 0\n",
       "OOBP            812\n",
       "OSLG            812\n",
       "dtype: int64"
      ]
     },
     "execution_count": 11,
     "metadata": {},
     "output_type": "execute_result"
    }
   ],
   "source": [
    "#checking how many values in the data are Null\n",
    "baseball_df.isnull().sum()"
   ]
  },
  {
   "cell_type": "code",
   "execution_count": 12,
   "metadata": {
    "colab": {
     "base_uri": "https://localhost:8080/",
     "height": 289
    },
    "colab_type": "code",
    "id": "PV-lFv4CLlJp",
    "outputId": "3a068f33-a8da-4ff5-f67d-0fec81c3174f"
   },
   "outputs": [
    {
     "data": {
      "text/plain": [
       "Team             39\n",
       "League            2\n",
       "Year             47\n",
       "RS              374\n",
       "RA              381\n",
       "W                63\n",
       "OBP              87\n",
       "SLG             162\n",
       "BA               75\n",
       "Playoffs          2\n",
       "RankSeason        8\n",
       "RankPlayoffs      5\n",
       "G                 8\n",
       "OOBP             72\n",
       "OSLG            112\n",
       "dtype: int64"
      ]
     },
     "execution_count": 12,
     "metadata": {},
     "output_type": "execute_result"
    }
   ],
   "source": [
    "baseball_df.nunique()"
   ]
  },
  {
   "cell_type": "markdown",
   "metadata": {
    "colab_type": "text",
    "id": "hr7zpD7S6HpW"
   },
   "source": [
    "The following list explains what each column represents in the dataset, type of data they contain and if they are categorical or not.\n",
    "\n",
    "1. RS — Runs Scored- Discrete numerical data\n",
    "2. RA — Runs Allowed- Discrete numerical data\n",
    "3. W — Wins- Discrete numerical data\n",
    "4. OBP — On Base Percentage- Continuous numerical data\n",
    "5. SLG — Slugging Percentage- Continuous numerical data\n",
    "6. BA — Batting Average- Continuous numerical data\n",
    "7. Playoffs — Whether a team made it to playoffs or not- Numeral Categorical data\n",
    "8. OOBP — Opponent’s On Base Percentage- Continuous numerical data\n",
    "9. OSLG — Opponents Slugging Percentage- Continuous numerical data\n",
    "10. G - Games played- Discrete numerical data\n",
    "\n",
    "OBP — On Base Percentage: This is a statistic measuring how frequently a batter reaches base, it does not take into account how far the batter runs i.e. third base.\n",
    "\n",
    "\n",
    "SLG — Slugging Percentage: A measure of the batting ‘Productivity’, in simple terms, it measures how far a batter makes it when they hit the ball.\n",
    "\n",
    "\n",
    "BA — Batting Average: Defined by the number of hits divided by at bats, measures how likely a batter is to hit a ball when pitched. Again, does not take into account how far the batter runs."
   ]
  },
  {
   "cell_type": "code",
   "execution_count": 13,
   "metadata": {
    "colab": {},
    "colab_type": "code",
    "id": "m-Olje48p05i"
   },
   "outputs": [],
   "source": [
    "#run difference\n",
    "baseball_df['RD']=baseball_df['RS']-baseball_df['RA']"
   ]
  },
  {
   "cell_type": "markdown",
   "metadata": {},
   "source": [
    "## Feedback\n",
    "\n",
    "Any explanation as to why you want to only keep observations from the year 2000 and onward?"
   ]
  },
  {
   "cell_type": "code",
   "execution_count": 14,
   "metadata": {
    "colab": {},
    "colab_type": "code",
    "id": "NZ2EPvipp_sB"
   },
   "outputs": [],
   "source": [
    "baseball_df=baseball_df[baseball_df.Year>2000]"
   ]
  },
  {
   "cell_type": "code",
   "execution_count": 15,
   "metadata": {
    "colab": {
     "base_uri": "https://localhost:8080/",
     "height": 34
    },
    "colab_type": "code",
    "id": "-sFfLeYJqIwy",
    "outputId": "6128c1f0-5ed9-4530-aa68-f80f1b5aca5b"
   },
   "outputs": [
    {
     "data": {
      "text/plain": [
       "(360, 16)"
      ]
     },
     "execution_count": 15,
     "metadata": {},
     "output_type": "execute_result"
    }
   ],
   "source": [
    "baseball_df.shape"
   ]
  },
  {
   "cell_type": "markdown",
   "metadata": {
    "colab_type": "text",
    "id": "u_otikKo6lQh"
   },
   "source": [
    "We added a new column named RD which represents Run Difference between RS and RA and filtered the years to the last 20 years."
   ]
  },
  {
   "cell_type": "code",
   "execution_count": 16,
   "metadata": {},
   "outputs": [
    {
     "data": {
      "text/html": [
       "<div>\n",
       "<style scoped>\n",
       "    .dataframe tbody tr th:only-of-type {\n",
       "        vertical-align: middle;\n",
       "    }\n",
       "\n",
       "    .dataframe tbody tr th {\n",
       "        vertical-align: top;\n",
       "    }\n",
       "\n",
       "    .dataframe thead th {\n",
       "        text-align: right;\n",
       "    }\n",
       "</style>\n",
       "<table border=\"1\" class=\"dataframe\">\n",
       "  <thead>\n",
       "    <tr style=\"text-align: right;\">\n",
       "      <th></th>\n",
       "      <th>Team</th>\n",
       "      <th>League</th>\n",
       "      <th>Year</th>\n",
       "      <th>RS</th>\n",
       "      <th>RA</th>\n",
       "      <th>W</th>\n",
       "      <th>OBP</th>\n",
       "      <th>SLG</th>\n",
       "      <th>BA</th>\n",
       "      <th>Playoffs</th>\n",
       "      <th>RankSeason</th>\n",
       "      <th>RankPlayoffs</th>\n",
       "      <th>G</th>\n",
       "      <th>OOBP</th>\n",
       "      <th>OSLG</th>\n",
       "      <th>RD</th>\n",
       "    </tr>\n",
       "  </thead>\n",
       "  <tbody>\n",
       "    <tr>\n",
       "      <th>0</th>\n",
       "      <td>ARI</td>\n",
       "      <td>NL</td>\n",
       "      <td>2012</td>\n",
       "      <td>734</td>\n",
       "      <td>688</td>\n",
       "      <td>81</td>\n",
       "      <td>0.328</td>\n",
       "      <td>0.418</td>\n",
       "      <td>0.259</td>\n",
       "      <td>0</td>\n",
       "      <td>NaN</td>\n",
       "      <td>NaN</td>\n",
       "      <td>162</td>\n",
       "      <td>0.317</td>\n",
       "      <td>0.415</td>\n",
       "      <td>46</td>\n",
       "    </tr>\n",
       "    <tr>\n",
       "      <th>1</th>\n",
       "      <td>ATL</td>\n",
       "      <td>NL</td>\n",
       "      <td>2012</td>\n",
       "      <td>700</td>\n",
       "      <td>600</td>\n",
       "      <td>94</td>\n",
       "      <td>0.320</td>\n",
       "      <td>0.389</td>\n",
       "      <td>0.247</td>\n",
       "      <td>1</td>\n",
       "      <td>4.0</td>\n",
       "      <td>5.0</td>\n",
       "      <td>162</td>\n",
       "      <td>0.306</td>\n",
       "      <td>0.378</td>\n",
       "      <td>100</td>\n",
       "    </tr>\n",
       "    <tr>\n",
       "      <th>2</th>\n",
       "      <td>BAL</td>\n",
       "      <td>AL</td>\n",
       "      <td>2012</td>\n",
       "      <td>712</td>\n",
       "      <td>705</td>\n",
       "      <td>93</td>\n",
       "      <td>0.311</td>\n",
       "      <td>0.417</td>\n",
       "      <td>0.247</td>\n",
       "      <td>1</td>\n",
       "      <td>5.0</td>\n",
       "      <td>4.0</td>\n",
       "      <td>162</td>\n",
       "      <td>0.315</td>\n",
       "      <td>0.403</td>\n",
       "      <td>7</td>\n",
       "    </tr>\n",
       "    <tr>\n",
       "      <th>3</th>\n",
       "      <td>BOS</td>\n",
       "      <td>AL</td>\n",
       "      <td>2012</td>\n",
       "      <td>734</td>\n",
       "      <td>806</td>\n",
       "      <td>69</td>\n",
       "      <td>0.315</td>\n",
       "      <td>0.415</td>\n",
       "      <td>0.260</td>\n",
       "      <td>0</td>\n",
       "      <td>NaN</td>\n",
       "      <td>NaN</td>\n",
       "      <td>162</td>\n",
       "      <td>0.331</td>\n",
       "      <td>0.428</td>\n",
       "      <td>-72</td>\n",
       "    </tr>\n",
       "    <tr>\n",
       "      <th>4</th>\n",
       "      <td>CHC</td>\n",
       "      <td>NL</td>\n",
       "      <td>2012</td>\n",
       "      <td>613</td>\n",
       "      <td>759</td>\n",
       "      <td>61</td>\n",
       "      <td>0.302</td>\n",
       "      <td>0.378</td>\n",
       "      <td>0.240</td>\n",
       "      <td>0</td>\n",
       "      <td>NaN</td>\n",
       "      <td>NaN</td>\n",
       "      <td>162</td>\n",
       "      <td>0.335</td>\n",
       "      <td>0.424</td>\n",
       "      <td>-146</td>\n",
       "    </tr>\n",
       "    <tr>\n",
       "      <th>...</th>\n",
       "      <td>...</td>\n",
       "      <td>...</td>\n",
       "      <td>...</td>\n",
       "      <td>...</td>\n",
       "      <td>...</td>\n",
       "      <td>...</td>\n",
       "      <td>...</td>\n",
       "      <td>...</td>\n",
       "      <td>...</td>\n",
       "      <td>...</td>\n",
       "      <td>...</td>\n",
       "      <td>...</td>\n",
       "      <td>...</td>\n",
       "      <td>...</td>\n",
       "      <td>...</td>\n",
       "      <td>...</td>\n",
       "    </tr>\n",
       "    <tr>\n",
       "      <th>355</th>\n",
       "      <td>SFG</td>\n",
       "      <td>NL</td>\n",
       "      <td>2001</td>\n",
       "      <td>799</td>\n",
       "      <td>748</td>\n",
       "      <td>90</td>\n",
       "      <td>0.342</td>\n",
       "      <td>0.460</td>\n",
       "      <td>0.266</td>\n",
       "      <td>0</td>\n",
       "      <td>NaN</td>\n",
       "      <td>NaN</td>\n",
       "      <td>162</td>\n",
       "      <td>0.329</td>\n",
       "      <td>0.404</td>\n",
       "      <td>51</td>\n",
       "    </tr>\n",
       "    <tr>\n",
       "      <th>356</th>\n",
       "      <td>STL</td>\n",
       "      <td>NL</td>\n",
       "      <td>2001</td>\n",
       "      <td>814</td>\n",
       "      <td>684</td>\n",
       "      <td>93</td>\n",
       "      <td>0.339</td>\n",
       "      <td>0.441</td>\n",
       "      <td>0.270</td>\n",
       "      <td>1</td>\n",
       "      <td>4.0</td>\n",
       "      <td>4.0</td>\n",
       "      <td>162</td>\n",
       "      <td>0.328</td>\n",
       "      <td>0.428</td>\n",
       "      <td>130</td>\n",
       "    </tr>\n",
       "    <tr>\n",
       "      <th>357</th>\n",
       "      <td>TBD</td>\n",
       "      <td>AL</td>\n",
       "      <td>2001</td>\n",
       "      <td>672</td>\n",
       "      <td>887</td>\n",
       "      <td>62</td>\n",
       "      <td>0.320</td>\n",
       "      <td>0.388</td>\n",
       "      <td>0.258</td>\n",
       "      <td>0</td>\n",
       "      <td>NaN</td>\n",
       "      <td>NaN</td>\n",
       "      <td>162</td>\n",
       "      <td>0.345</td>\n",
       "      <td>0.452</td>\n",
       "      <td>-215</td>\n",
       "    </tr>\n",
       "    <tr>\n",
       "      <th>358</th>\n",
       "      <td>TEX</td>\n",
       "      <td>AL</td>\n",
       "      <td>2001</td>\n",
       "      <td>890</td>\n",
       "      <td>968</td>\n",
       "      <td>73</td>\n",
       "      <td>0.344</td>\n",
       "      <td>0.471</td>\n",
       "      <td>0.275</td>\n",
       "      <td>0</td>\n",
       "      <td>NaN</td>\n",
       "      <td>NaN</td>\n",
       "      <td>162</td>\n",
       "      <td>0.362</td>\n",
       "      <td>0.494</td>\n",
       "      <td>-78</td>\n",
       "    </tr>\n",
       "    <tr>\n",
       "      <th>359</th>\n",
       "      <td>TOR</td>\n",
       "      <td>AL</td>\n",
       "      <td>2001</td>\n",
       "      <td>767</td>\n",
       "      <td>753</td>\n",
       "      <td>80</td>\n",
       "      <td>0.325</td>\n",
       "      <td>0.430</td>\n",
       "      <td>0.263</td>\n",
       "      <td>0</td>\n",
       "      <td>NaN</td>\n",
       "      <td>NaN</td>\n",
       "      <td>162</td>\n",
       "      <td>0.339</td>\n",
       "      <td>0.435</td>\n",
       "      <td>14</td>\n",
       "    </tr>\n",
       "  </tbody>\n",
       "</table>\n",
       "<p>360 rows × 16 columns</p>\n",
       "</div>"
      ],
      "text/plain": [
       "    Team League  Year   RS   RA   W    OBP    SLG     BA  Playoffs  \\\n",
       "0    ARI     NL  2012  734  688  81  0.328  0.418  0.259         0   \n",
       "1    ATL     NL  2012  700  600  94  0.320  0.389  0.247         1   \n",
       "2    BAL     AL  2012  712  705  93  0.311  0.417  0.247         1   \n",
       "3    BOS     AL  2012  734  806  69  0.315  0.415  0.260         0   \n",
       "4    CHC     NL  2012  613  759  61  0.302  0.378  0.240         0   \n",
       "..   ...    ...   ...  ...  ...  ..    ...    ...    ...       ...   \n",
       "355  SFG     NL  2001  799  748  90  0.342  0.460  0.266         0   \n",
       "356  STL     NL  2001  814  684  93  0.339  0.441  0.270         1   \n",
       "357  TBD     AL  2001  672  887  62  0.320  0.388  0.258         0   \n",
       "358  TEX     AL  2001  890  968  73  0.344  0.471  0.275         0   \n",
       "359  TOR     AL  2001  767  753  80  0.325  0.430  0.263         0   \n",
       "\n",
       "     RankSeason  RankPlayoffs    G   OOBP   OSLG   RD  \n",
       "0           NaN           NaN  162  0.317  0.415   46  \n",
       "1           4.0           5.0  162  0.306  0.378  100  \n",
       "2           5.0           4.0  162  0.315  0.403    7  \n",
       "3           NaN           NaN  162  0.331  0.428  -72  \n",
       "4           NaN           NaN  162  0.335  0.424 -146  \n",
       "..          ...           ...  ...    ...    ...  ...  \n",
       "355         NaN           NaN  162  0.329  0.404   51  \n",
       "356         4.0           4.0  162  0.328  0.428  130  \n",
       "357         NaN           NaN  162  0.345  0.452 -215  \n",
       "358         NaN           NaN  162  0.362  0.494  -78  \n",
       "359         NaN           NaN  162  0.339  0.435   14  \n",
       "\n",
       "[360 rows x 16 columns]"
      ]
     },
     "execution_count": 16,
     "metadata": {},
     "output_type": "execute_result"
    }
   ],
   "source": [
    "baseball_df"
   ]
  },
  {
   "cell_type": "markdown",
   "metadata": {
    "colab_type": "text",
    "id": "POQrLZM32L2u"
   },
   "source": [
    "## Exploratory Data Analysis"
   ]
  },
  {
   "cell_type": "markdown",
   "metadata": {
    "colab_type": "text",
    "id": "4W8hh5g7NfD3"
   },
   "source": [
    "Here we have a scatterplot between Runs Scored and Wins that they have and if they have been in the playoffs or not. It seems that if you have been in the play offs, you would have more wins and runs scored then if you don't."
   ]
  },
  {
   "cell_type": "code",
   "execution_count": 17,
   "metadata": {
    "colab": {
     "base_uri": "https://localhost:8080/",
     "height": 369
    },
    "colab_type": "code",
    "id": "YQWqYY2a4byt",
    "outputId": "adb3608a-092c-4704-9b08-60a18be904d0"
   },
   "outputs": [
    {
     "data": {
      "image/png": "[encoded data removed]",
      "text/plain": [
       "<Figure size 407.375x360 with 1 Axes>"
      ]
     },
     "metadata": {
      "needs_background": "light"
     },
     "output_type": "display_data"
    }
   ],
   "source": [
    "sb.lmplot(x = \"W\", y = \"RS\", fit_reg = False, hue = \"Playoffs\", data=baseball_df)\n",
    "plt.xlabel(\"Wins\")\n",
    "plt.ylabel(\"Runs Scored\")\n",
    "plt.show()"
   ]
  },
  {
   "cell_type": "code",
   "execution_count": 18,
   "metadata": {
    "colab": {
     "base_uri": "https://localhost:8080/",
     "height": 34
    },
    "colab_type": "code",
    "id": "g5ov4jsnOuPV",
    "outputId": "d66b14c8-bbec-455b-9320-14ce34853a84"
   },
   "outputs": [
    {
     "data": {
      "text/plain": [
       "0.5785015854551099"
      ]
     },
     "execution_count": 18,
     "metadata": {},
     "output_type": "execute_result"
    }
   ],
   "source": [
    "baseball_df['W'].corr(baseball_df['RS'])"
   ]
  },
  {
   "cell_type": "markdown",
   "metadata": {
    "colab_type": "text",
    "id": "_jtY4uu2PD-v"
   },
   "source": [
    "The correlation between between Runs Scored and Wins have a moderate positive relationship value of 0.579."
   ]
  },
  {
   "cell_type": "markdown",
   "metadata": {},
   "source": [
    "## Feedback\n",
    "\n",
    "In the real world, when you have a variables that have a correlation that's at 0.579, it is considered a high correlation, although there are arbitrary thresholds for high, medium and low thesholds for 0.7, 0.5 and 0.3, respectively."
   ]
  },
  {
   "cell_type": "code",
   "execution_count": 33,
   "metadata": {
    "colab": {
     "base_uri": "https://localhost:8080/",
     "height": 279
    },
    "colab_type": "code",
    "id": "VNYa8rUC_5ol",
    "outputId": "cd6e5d18-0728-4df6-c222-cf90095272e6"
   },
   "outputs": [
    {
     "data": {
      "image/png": "[encoded data removed]",
      "text/plain": [
       "<Figure size 432x288 with 1 Axes>"
      ]
     },
     "metadata": {
      "needs_background": "light"
     },
     "output_type": "display_data"
    }
   ],
   "source": [
    "x = np.array(baseball_df.RD)\n",
    "y = np.array(baseball_df.W)\n",
    "slope, intercept = np.polyfit(x, y, 1)\n",
    "abline_values = [slope * i + intercept for i in x]\n",
    "plt.scatter(baseball_df.RD, baseball_df.W)\n",
    "plt.plot(x, abline_values,'b')\n",
    "plt.xlabel(\"Run Difference\")\n",
    "plt.ylabel(\"Wins\")\n",
    "plt.show()"
   ]
  },
  {
   "cell_type": "code",
   "execution_count": 20,
   "metadata": {
    "colab": {
     "base_uri": "https://localhost:8080/",
     "height": 34
    },
    "colab_type": "code",
    "id": "Cn49uPulP7qu",
    "outputId": "f165237a-e35a-4148-baa0-fa854b47754f"
   },
   "outputs": [
    {
     "name": "stdout",
     "output_type": "stream",
     "text": [
      "slope= 0.10176044297075405\n"
     ]
    }
   ],
   "source": [
    "print('slope=',slope)"
   ]
  },
  {
   "cell_type": "code",
   "execution_count": 23,
   "metadata": {
    "colab": {
     "base_uri": "https://localhost:8080/",
     "height": 34
    },
    "colab_type": "code",
    "id": "oyUO1yEWOlhU",
    "outputId": "0b0cf974-66ea-4969-c2d5-588a907f0c99"
   },
   "outputs": [
    {
     "data": {
      "text/plain": [
       "0.9386297182521279"
      ]
     },
     "execution_count": 23,
     "metadata": {},
     "output_type": "execute_result"
    }
   ],
   "source": [
    "baseball_df['W'].corr(baseball_df['RD'])"
   ]
  },
  {
   "cell_type": "markdown",
   "metadata": {
    "colab_type": "text",
    "id": "3oaNbKANQkDr"
   },
   "source": [
    "This is a scatter plot between Run Difference and Win and as you can see from the diagram, that they have a strong correlation with each other with a value of 0.939 and a slope of 0.1018."
   ]
  },
  {
   "cell_type": "markdown",
   "metadata": {},
   "source": [
    "## Feedback\n",
    "\n",
    "This level of correlation between Run Difference and Number of Wins is very high even by tempered standards. This is intuitive with how the game works."
   ]
  },
  {
   "cell_type": "code",
   "execution_count": 24,
   "metadata": {
    "colab": {
     "base_uri": "https://localhost:8080/",
     "height": 297
    },
    "colab_type": "code",
    "id": "RjO3NlUgEzaD",
    "outputId": "d44c4927-3d65-4bf8-cace-931c996e90d6"
   },
   "outputs": [
    {
     "data": {
      "text/html": [
       "<div>\n",
       "<style scoped>\n",
       "    .dataframe tbody tr th:only-of-type {\n",
       "        vertical-align: middle;\n",
       "    }\n",
       "\n",
       "    .dataframe tbody tr th {\n",
       "        vertical-align: top;\n",
       "    }\n",
       "\n",
       "    .dataframe thead th {\n",
       "        text-align: right;\n",
       "    }\n",
       "</style>\n",
       "<table border=\"1\" class=\"dataframe\">\n",
       "  <thead>\n",
       "    <tr style=\"text-align: right;\">\n",
       "      <th></th>\n",
       "      <th>W</th>\n",
       "      <th>RS</th>\n",
       "      <th>RD</th>\n",
       "    </tr>\n",
       "  </thead>\n",
       "  <tbody>\n",
       "    <tr>\n",
       "      <th>count</th>\n",
       "      <td>360.000000</td>\n",
       "      <td>360.000000</td>\n",
       "      <td>360.000000</td>\n",
       "    </tr>\n",
       "    <tr>\n",
       "      <th>mean</th>\n",
       "      <td>80.963889</td>\n",
       "      <td>748.177778</td>\n",
       "      <td>0.000000</td>\n",
       "    </tr>\n",
       "    <tr>\n",
       "      <th>std</th>\n",
       "      <td>11.725330</td>\n",
       "      <td>78.933960</td>\n",
       "      <td>108.153455</td>\n",
       "    </tr>\n",
       "    <tr>\n",
       "      <th>min</th>\n",
       "      <td>43.000000</td>\n",
       "      <td>513.000000</td>\n",
       "      <td>-337.000000</td>\n",
       "    </tr>\n",
       "    <tr>\n",
       "      <th>25%</th>\n",
       "      <td>72.000000</td>\n",
       "      <td>697.000000</td>\n",
       "      <td>-79.750000</td>\n",
       "    </tr>\n",
       "    <tr>\n",
       "      <th>50%</th>\n",
       "      <td>82.000000</td>\n",
       "      <td>743.000000</td>\n",
       "      <td>7.000000</td>\n",
       "    </tr>\n",
       "    <tr>\n",
       "      <th>75%</th>\n",
       "      <td>90.000000</td>\n",
       "      <td>801.250000</td>\n",
       "      <td>81.000000</td>\n",
       "    </tr>\n",
       "    <tr>\n",
       "      <th>max</th>\n",
       "      <td>116.000000</td>\n",
       "      <td>968.000000</td>\n",
       "      <td>300.000000</td>\n",
       "    </tr>\n",
       "  </tbody>\n",
       "</table>\n",
       "</div>"
      ],
      "text/plain": [
       "                W          RS          RD\n",
       "count  360.000000  360.000000  360.000000\n",
       "mean    80.963889  748.177778    0.000000\n",
       "std     11.725330   78.933960  108.153455\n",
       "min     43.000000  513.000000 -337.000000\n",
       "25%     72.000000  697.000000  -79.750000\n",
       "50%     82.000000  743.000000    7.000000\n",
       "75%     90.000000  801.250000   81.000000\n",
       "max    116.000000  968.000000  300.000000"
      ]
     },
     "execution_count": 24,
     "metadata": {},
     "output_type": "execute_result"
    }
   ],
   "source": [
    "#descriptive statistical value between wins and run difference and run scored\n",
    "baseball_df[['W','RS','RD']].describe()"
   ]
  },
  {
   "cell_type": "code",
   "execution_count": 25,
   "metadata": {
    "colab": {
     "base_uri": "https://localhost:8080/",
     "height": 387
    },
    "colab_type": "code",
    "id": "-VbhK5i_Kqzx",
    "outputId": "38440400-cec4-4a03-cedc-6a4459ce8dc0"
   },
   "outputs": [
    {
     "data": {
      "image/png": "[encoded data removed]",
      "text/plain": [
       "<Figure size 407.375x360 with 6 Axes>"
      ]
     },
     "metadata": {
      "needs_background": "light"
     },
     "output_type": "display_data"
    }
   ],
   "source": [
    "corrcheck = baseball_df[['RD', 'W', 'Playoffs']].copy()\n",
    "g = sb.pairplot(corrcheck, hue = 'Playoffs',vars=[\"RD\", \"W\"])"
   ]
  },
  {
   "cell_type": "markdown",
   "metadata": {
    "colab_type": "text",
    "id": "22nlVpoMRb0F"
   },
   "source": [
    "As we can see from the evidence of the charts and the correlation values between the variable, there is a clear linear relationship between them."
   ]
  },
  {
   "cell_type": "markdown",
   "metadata": {},
   "source": [
    "## Feedback \n",
    "\n",
    "The linear plot and distribution plot of runs and wins is a beautiful example of the types of relationships observed when there is a very high correlation between variables. If anyone else is playing moneyball, then they'd probably valuate this statistic higher than other statistics, thus there would be a premium for players that can deliver this."
   ]
  },
  {
   "cell_type": "markdown",
   "metadata": {
    "colab_type": "text",
    "id": "WoMnojBPtAQ7"
   },
   "source": [
    "## Feature Selection"
   ]
  },
  {
   "cell_type": "markdown",
   "metadata": {
    "colab_type": "text",
    "id": "pmYGVnlKSW61"
   },
   "source": [
    "Now we are going to create a model using other variables that could influence the run difference value. So we have selected the 3 variables that were described to be very important, OBP, SLG, and BA as the independent variables. The dependent variable will be Run Difference. These data are what makes the player, it's like the player's stats."
   ]
  },
  {
   "cell_type": "code",
   "execution_count": 27,
   "metadata": {
    "colab": {
     "base_uri": "https://localhost:8080/",
     "height": 316
    },
    "colab_type": "code",
    "id": "0k4qDMEEtTkX",
    "outputId": "8de58701-c102-4d9c-a1ee-9fd31ff6c593"
   },
   "outputs": [
    {
     "name": "stdout",
     "output_type": "stream",
     "text": [
      "BA : -1901.5481379787784\n",
      "SLG : 1159.4853943102503\n",
      "OBP : 4479.074267941917\n"
     ]
    },
    {
     "data": {
      "image/png": "[encoded data removed]",
      "text/plain": [
       "<Figure size 432x288 with 1 Axes>"
      ]
     },
     "metadata": {
      "needs_background": "light"
     },
     "output_type": "display_data"
    }
   ],
   "source": [
    "in_base=baseball_df[['BA','SLG','OBP']] # independent\n",
    "de_base=baseball_df['RD']\n",
    "\n",
    "model = LinearRegression()\n",
    "model.fit(in_base, de_base)\n",
    "importance = model.coef_\n",
    "\n",
    "for x, y in zip(importance,in_base.columns):\n",
    "  print(y,':',x)\n",
    "# plot feature importance\n",
    "plt.bar([x for x in range(len(importance))], importance)\n",
    "plt.show()"
   ]
  },
  {
   "cell_type": "markdown",
   "metadata": {},
   "source": [
    "## Instructor inspection"
   ]
  },
  {
   "cell_type": "code",
   "execution_count": 28,
   "metadata": {},
   "outputs": [
    {
     "data": {
      "text/plain": [
       "-1463.7586442944912"
      ]
     },
     "execution_count": 28,
     "metadata": {},
     "output_type": "execute_result"
    }
   ],
   "source": [
    "model.intercept_"
   ]
  },
  {
   "cell_type": "code",
   "execution_count": 31,
   "metadata": {},
   "outputs": [
    {
     "name": "stdout",
     "output_type": "stream",
     "text": [
      "                            OLS Regression Results                            \n",
      "==============================================================================\n",
      "Dep. Variable:                     RD   R-squared:                       0.379\n",
      "Model:                            OLS   Adj. R-squared:                  0.374\n",
      "Method:                 Least Squares   F-statistic:                     72.35\n",
      "Date:                Mon, 11 May 2020   Prob (F-statistic):           1.48e-36\n",
      "Time:                        13:10:49   Log-Likelihood:                -2110.7\n",
      "No. Observations:                 360   AIC:                             4229.\n",
      "Df Residuals:                     356   BIC:                             4245.\n",
      "Df Model:                           3                                         \n",
      "Covariance Type:            nonrobust                                         \n",
      "==============================================================================\n",
      "                 coef    std err          t      P>|t|      [0.025      0.975]\n",
      "------------------------------------------------------------------------------\n",
      "const      -2.665e-15      4.512  -5.91e-16      1.000      -8.873       8.873\n",
      "x1           -21.4067      8.459     -2.531      0.012     -38.043      -4.771\n",
      "x2            29.6254      7.289      4.064      0.000      15.290      43.960\n",
      "x3            58.7738      8.798      6.681      0.000      41.472      76.076\n",
      "==============================================================================\n",
      "Omnibus:                        5.858   Durbin-Watson:                   1.883\n",
      "Prob(Omnibus):                  0.053   Jarque-Bera (JB):                4.379\n",
      "Skew:                          -0.148   Prob(JB):                        0.112\n",
      "Kurtosis:                       2.548   Cond. No.                         3.89\n",
      "==============================================================================\n",
      "\n",
      "Warnings:\n",
      "[1] Standard Errors assume that the covariance matrix of the errors is correctly specified.\n"
     ]
    }
   ],
   "source": [
    "import statsmodels.api as sm\n",
    "\n",
    "ss = StandardScaler()\n",
    "ss.fit(in_base)\n",
    "scaled_in_base = ss.transform(in_base)\n",
    "scaled_in_base = sm.add_constant(scaled_in_base)\n",
    "olsmodel = sm.OLS(de_base, scaled_in_base).fit()\n",
    "print(olsmodel.summary())"
   ]
  },
  {
   "cell_type": "markdown",
   "metadata": {},
   "source": [
    "## Instructor observations\n",
    "\n",
    "The features included in this subset correlate with a correlation coefficient of determination of 0.379, a mediocre r-squared score, meaning that there is probably some intercorrelation among the variables going on. Each independent variable in the ordinary least squares model contributes significantly, both in the scaled and unscaled version of the data. "
   ]
  },
  {
   "cell_type": "markdown",
   "metadata": {
    "colab_type": "text",
    "id": "nik-leGbYj7t"
   },
   "source": [
    "Here we see from the feature selection, which is to see the value of the coefficient, we can see that BA has a negative cofficient and the OBP has the highest coefficient meaning it has the of the most importance affecting the RD value."
   ]
  },
  {
   "cell_type": "markdown",
   "metadata": {
    "colab_type": "text",
    "id": "OFwRN8Dbh2Sc"
   },
   "source": [
    "## Model"
   ]
  },
  {
   "cell_type": "markdown",
   "metadata": {
    "colab_type": "text",
    "id": "DU6QomwFbDhP"
   },
   "source": [
    "Here we will be making multiple models. First one will be based on On Base Percentage and slugging percentage which would equate to Run Scored."
   ]
  },
  {
   "cell_type": "code",
   "execution_count": 49,
   "metadata": {
    "colab": {
     "base_uri": "https://localhost:8080/",
     "height": 51
    },
    "colab_type": "code",
    "id": "F_wv3jLTh3id",
    "outputId": "234da4f7-90e7-4424-faf7-d7b34fea8114"
   },
   "outputs": [
    {
     "name": "stdout",
     "output_type": "stream",
     "text": [
      "-863.9857062711809\n",
      "[2629.98262323 1782.74782661]\n"
     ]
    }
   ],
   "source": [
    "x1 = baseball_df[['OBP','SLG']]\n",
    "y1 = baseball_df['RS']\n",
    "Runs = LinearRegression() \n",
    "Runs.fit(x1,y1)\n",
    "print(Runs.intercept_) \n",
    "print(Runs.coef_)"
   ]
  },
  {
   "cell_type": "markdown",
   "metadata": {
    "colab_type": "text",
    "id": "UR_5XLycfdq6"
   },
   "source": [
    "Second model would be OOBP and OSLG equating to Runs Allowed."
   ]
  },
  {
   "cell_type": "code",
   "execution_count": 50,
   "metadata": {
    "colab": {
     "base_uri": "https://localhost:8080/",
     "height": 51
    },
    "colab_type": "code",
    "id": "pKpEbIYrkc2m",
    "outputId": "5627e334-2c6c-4909-d46a-0685150b2378"
   },
   "outputs": [
    {
     "name": "stdout",
     "output_type": "stream",
     "text": [
      "-857.69785008923\n",
      "[2789.36554242 1641.90047463]\n"
     ]
    }
   ],
   "source": [
    "x2 = baseball_df[['OOBP','OSLG']]\n",
    "y2 = baseball_df['RA']\n",
    "RunsAllowed = LinearRegression()\n",
    "RunsAllowed.fit(x2,y2)\n",
    " \n",
    "print(RunsAllowed.intercept_)\n",
    "print(RunsAllowed.coef_)"
   ]
  },
  {
   "cell_type": "markdown",
   "metadata": {
    "colab_type": "text",
    "id": "-ueBWekAgZAd"
   },
   "source": [
    "The final model will be between Wins and Run Difference"
   ]
  },
  {
   "cell_type": "code",
   "execution_count": 51,
   "metadata": {
    "colab": {
     "base_uri": "https://localhost:8080/",
     "height": 51
    },
    "colab_type": "code",
    "id": "s1Y6_IJ5k1-C",
    "outputId": "654c9569-414e-4fa9-a363-d203e5affd7e"
   },
   "outputs": [
    {
     "name": "stdout",
     "output_type": "stream",
     "text": [
      "80.96388888888889\n",
      "[0.10176044]\n"
     ]
    }
   ],
   "source": [
    "x3 = baseball_df[['RD']]\n",
    "y3 = baseball_df['W']\n",
    "Wins = LinearRegression()\n",
    "Wins.fit(x3,y3)\n",
    " \n",
    "print(Wins.intercept_)\n",
    "print(Wins.coef_)"
   ]
  },
  {
   "cell_type": "markdown",
   "metadata": {
    "colab_type": "text",
    "id": "n8d-Cnhvgvqk"
   },
   "source": [
    "Here is the final equation of the model.\n",
    "\n",
    "1. RS= -863.99 + 2629.98(OBP) + 1782.75(SLG)\n",
    "2. RA= -857.70 + 2789.66(OOBP) + 1641.90(OSLG)\n",
    "3. W= 80.96 + 0.10(RD)\n",
    "\n",
    "Putting it together and this it what it is\n",
    "\n",
    "W= 80.96 + 0.10(RD)\n",
    "W= 80.96 + 0.10(RS-RA)\n",
    "W= 80.96 + 0.10([-863.99 + 2629.98(OBP) + 1782.75(SLG)] - [-857.70 + 2789.66(OOBP) + 1641.90(OSLG)])"
   ]
  },
  {
   "cell_type": "markdown",
   "metadata": {},
   "source": [
    "## Feedback\n",
    "\n",
    "You included all these terms and coefficients together into three separate models but only ended up modeling one of them. I wasn't really quite sure where you were going with this."
   ]
  },
  {
   "cell_type": "markdown",
   "metadata": {
    "colab_type": "text",
    "id": "LAUqLWxaSisq"
   },
   "source": [
    "## Split train and test"
   ]
  },
  {
   "cell_type": "code",
   "execution_count": 43,
   "metadata": {},
   "outputs": [
    {
     "data": {
      "text/plain": [
       "(360,)"
      ]
     },
     "execution_count": 43,
     "metadata": {},
     "output_type": "execute_result"
    }
   ],
   "source": [
    "x.shape"
   ]
  },
  {
   "cell_type": "code",
   "execution_count": 44,
   "metadata": {
    "colab": {},
    "colab_type": "code",
    "id": "O-4XyOyIShsd"
   },
   "outputs": [],
   "source": [
    "x_rest,x_test,y_rest,y_test=train_test_split(x.reshape(-1, 1),y,test_size=0.2,random_state=42)"
   ]
  },
  {
   "cell_type": "code",
   "execution_count": 45,
   "metadata": {
    "colab": {},
    "colab_type": "code",
    "id": "udZRcM6YSiVg"
   },
   "outputs": [],
   "source": [
    "x_train,x_val,y_train,y_val=train_test_split(x_rest,y_rest,test_size=0.2,random_state=42)"
   ]
  },
  {
   "cell_type": "code",
   "execution_count": 46,
   "metadata": {
    "colab": {},
    "colab_type": "code",
    "id": "ugUn7y-ESk4D"
   },
   "outputs": [],
   "source": [
    "scaler_final=StandardScaler()\n",
    "\n",
    "regression_final=LinearRegression()\n",
    "\n",
    "#create a pipeline for the cross validate\n",
    "data_selection_pipe=Pipeline(steps=[('scaler',scaler_final),('regression',regression_final)],verbose=0)"
   ]
  },
  {
   "cell_type": "code",
   "execution_count": 47,
   "metadata": {
    "colab": {
     "base_uri": "https://localhost:8080/",
     "height": 1000
    },
    "colab_type": "code",
    "id": "-Xmz1gbWq_25",
    "outputId": "20d5cf64-8d43-46ec-c6ea-402a532804d7"
   },
   "outputs": [],
   "source": [
    "cv_pipe_train=cross_validate(data_selection_pipe, x_train, y_train, cv=10, scoring= ('r2', 'neg_mean_squared_error'))\n",
    "cv_pipe_test=cross_validate(data_selection_pipe, x_test, y_test, cv=10, scoring= ('r2', 'neg_mean_squared_error'))\n",
    "cv_pipe_val=cross_validate(data_selection_pipe, x_val, y_val, cv=10, scoring= ('r2', 'neg_mean_squared_error'))\n",
    "cv_pipe_rest=cross_validate(data_selection_pipe, x_rest, y_rest, cv=10, scoring= ('r2', 'neg_mean_squared_error'))"
   ]
  },
  {
   "cell_type": "code",
   "execution_count": 48,
   "metadata": {
    "colab": {
     "base_uri": "https://localhost:8080/",
     "height": 34
    },
    "colab_type": "code",
    "id": "qPa4rhW9rGkK",
    "outputId": "44387573-4242-4551-e852-daf157e19969"
   },
   "outputs": [
    {
     "data": {
      "text/plain": [
       "dict_keys(['fit_time', 'score_time', 'test_r2', 'test_neg_mean_squared_error'])"
      ]
     },
     "execution_count": 48,
     "metadata": {},
     "output_type": "execute_result"
    }
   ],
   "source": [
    "cv_pipe_train.keys()"
   ]
  },
  {
   "cell_type": "code",
   "execution_count": 49,
   "metadata": {
    "colab": {
     "base_uri": "https://localhost:8080/",
     "height": 34
    },
    "colab_type": "code",
    "id": "mWxaEjherJb6",
    "outputId": "cccf9597-4ab4-4714-fdd3-4e16fb1d5412"
   },
   "outputs": [
    {
     "data": {
      "text/plain": [
       "dict_keys(['fit_time', 'score_time', 'test_r2', 'test_neg_mean_squared_error'])"
      ]
     },
     "execution_count": 49,
     "metadata": {},
     "output_type": "execute_result"
    }
   ],
   "source": [
    "cv_pipe_test.keys()"
   ]
  },
  {
   "cell_type": "code",
   "execution_count": 55,
   "metadata": {
    "colab": {
     "base_uri": "https://localhost:8080/",
     "height": 34
    },
    "colab_type": "code",
    "id": "IRV7f_q9rMHw",
    "outputId": "5c72b9d3-dee1-47e1-9772-59bad1a8a7fa"
   },
   "outputs": [
    {
     "data": {
      "text/plain": [
       "0.8684252880500759"
      ]
     },
     "execution_count": 55,
     "metadata": {},
     "output_type": "execute_result"
    }
   ],
   "source": [
    "cv_pipe_train['test_r2'].mean()"
   ]
  },
  {
   "cell_type": "markdown",
   "metadata": {},
   "source": [
    "# Instructors investigation"
   ]
  },
  {
   "cell_type": "code",
   "execution_count": 63,
   "metadata": {},
   "outputs": [
    {
     "name": "stdout",
     "output_type": "stream",
     "text": [
      "train mean squared: 0.87 | train mean neg-MSE: -16.06 | train mean RMSE: 4.01\n",
      "test mean squared: 0.79 | test mean neg-MSE: -17.79 | test mean RMSE: 4.22\n",
      "val mean squared: 0.77 | val mean neg-MSE: -18.31 | val mean RMSE: 4.28\n",
      "rest mean squared: 0.86 | rest mean neg-MSE: -16.26 | rest mean RMSE: 4.03\n"
     ]
    }
   ],
   "source": [
    "for x, y in zip([cv_pipe_train, cv_pipe_test, cv_pipe_val, cv_pipe_rest], [\"train\", \"test\", \"val\", \"rest\"]):\n",
    "    print(f\"{y} mean squared: {x['test_r2'].mean():.2f} | {y} mean neg-MSE: {x['test_neg_mean_squared_error'].mean():.2f} | {y} mean RMSE: {abs(x['test_neg_mean_squared_error'].mean())**0.5:.2f}\")"
   ]
  },
  {
   "cell_type": "markdown",
   "metadata": {
    "colab_type": "text",
    "id": "pcJIt3JBhGKO"
   },
   "source": [
    "## Conclusions\n",
    "\n",
    "The better performance the team makes, it is most likely that they will make it to the playoffs and possibly win the League. The equation to see that would be \n",
    "1. RS= -863.99 + 2629.98(OBP) + 1782.75(SLG)\n",
    "2. RA= -857.70 + 2789.66(OOBP) + 1641.90(OSLG)\n",
    "3. W= 80.96 + 0.10(RD)\n",
    "where RD= RS-RA.\n",
    "\n",
    "Now the problem is that the data doesn't come with data on the players individually as well as their pricing so we don't know if they are more expensive or if the fall under the budget. However, we can say that all "
   ]
  },
  {
   "cell_type": "markdown",
   "metadata": {
    "colab_type": "text",
    "id": "gWszgsUNygR8"
   },
   "source": [
    "## Reference\n",
    "\n",
    "Moneyball - Linear Regression\n",
    "Harry Bitten - https://towardsdatascience.com/moneyball-linear-regression-76034259af5e"
   ]
  },
  {
   "cell_type": "markdown",
   "metadata": {
    "colab": {},
    "colab_type": "code",
    "id": "W-A7fd1Syw0X"
   },
   "source": [
    "# Overall Remarks\n",
    "\n",
    "You didn't quite finished your conclusion but I get the gist of what you were trying to communicate. The next step then would be to procure a historical dataset of player salaries for players recruited and traded per year. This would provide us our labels or ground truth value to how much players are being paid, which gives us details on things like the actual valuation of certain statistics, offset by some negotiation factor.\n",
    "\n",
    "I would have liked to see some further correlation analysis or investigation of the importance of the other feautres in the dataset or a combination of factors and their affect on the target metric wins or a surrogate target metric.\n",
    "\n",
    "That being said, I thought your analysis, layout, visualizations, explanations and modelling were good."
   ]
  }
 ],
 "metadata": {
  "colab": {
   "name": "Assignment 4.ipynb",
   "provenance": []
  },
  "kernelspec": {
   "display_name": "Python 3",
   "language": "python",
   "name": "python3"
  },
  "language_info": {
   "codemirror_mode": {
    "name": "ipython",
    "version": 3
   },
   "file_extension": ".py",
   "mimetype": "text/x-python",
   "name": "python",
   "nbconvert_exporter": "python",
   "pygments_lexer": "ipython3",
   "version": "3.6.9"
  }
 },
 "nbformat": 4,
 "nbformat_minor": 1
}
