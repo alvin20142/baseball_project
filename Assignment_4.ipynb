{
  "nbformat": 4,
  "nbformat_minor": 0,
  "metadata": {
    "colab": {
      "name": "Assignment 4.ipynb",
      "provenance": []
    },
    "kernelspec": {
      "name": "python3",
      "display_name": "Python 3"
    }
  },
  "cells": [
    {
      "cell_type": "markdown",
      "metadata": {
        "id": "oTumct0bzHjq",
        "colab_type": "text"
      },
      "source": [
        "##Introduction"
      ]
    },
    {
      "cell_type": "markdown",
      "metadata": {
        "id": "9mjoBdf7zP1-",
        "colab_type": "text"
      },
      "source": [
        "\"Every strike brings me closer to the next home run.\" - Babe Ruth\n",
        "\n",
        "Every team in the MLB would like to make it to the playoffs but the Toronto Blue Jays are on a tight budget and has asked us to figure out how to succeed in scouting players so that they have a better chance in the playoffs with the limitations."
      ]
    },
    {
      "cell_type": "markdown",
      "metadata": {
        "id": "2xtCfLWnN0AW",
        "colab_type": "text"
      },
      "source": [
        "###Data and Library Import"
      ]
    },
    {
      "cell_type": "markdown",
      "metadata": {
        "id": "6L_Lfzen6zK7",
        "colab_type": "text"
      },
      "source": [
        "Here we import all the necessary Libraries as well as the dataset from Google Drive."
      ]
    },
    {
      "cell_type": "code",
      "metadata": {
        "id": "gC-fCduLAf6o",
        "colab_type": "code",
        "outputId": "20bb00dc-715f-4025-fac9-314f73b0de37",
        "colab": {
          "base_uri": "https://localhost:8080/",
          "height": 51
        }
      },
      "source": [
        "import pandas as pd\n",
        "import numpy as np\n",
        "import datetime\n",
        "from google.colab import drive\n",
        "import matplotlib.pyplot as plt\n",
        "import seaborn as sb\n",
        "from statsmodels import regression\n",
        "import statsmodels.api as sm\n",
        "from sklearn.model_selection import train_test_split\n",
        "from sklearn.preprocessing import StandardScaler\n",
        "from sklearn.metrics import r2_score\n",
        "from sklearn.feature_selection import SelectFromModel\n",
        "from sklearn.linear_model import Lasso, LogisticRegression\n",
        "from sklearn.linear_model import LinearRegression\n",
        "from sklearn.pipeline import Pipeline\n",
        "from sklearn.model_selection import cross_validate"
      ],
      "execution_count": 1,
      "outputs": [
        {
          "output_type": "stream",
          "text": [
            "/usr/local/lib/python3.6/dist-packages/statsmodels/tools/_testing.py:19: FutureWarning: pandas.util.testing is deprecated. Use the functions in the public API at pandas.testing instead.\n",
            "  import pandas.util.testing as tm\n"
          ],
          "name": "stderr"
        }
      ]
    },
    {
      "cell_type": "code",
      "metadata": {
        "id": "3qv5oI17ljdC",
        "colab_type": "code",
        "colab": {
          "base_uri": "https://localhost:8080/",
          "height": 122
        },
        "outputId": "e0ee72da-ee6a-45df-9ea5-228ea038f141"
      },
      "source": [
        "drive.mount('/content/Drive')"
      ],
      "execution_count": 2,
      "outputs": [
        {
          "output_type": "stream",
          "text": [
            "Go to this URL in a browser: https://accounts.google.com/o/oauth2/auth?client_id=947318989803-6bn6qk8qdgf4n4g3pfee6491hc0brc4i.apps.googleusercontent.com&redirect_uri=urn%3aietf%3awg%3aoauth%3a2.0%3aoob&response_type=code&scope=email%20https%3a%2f%2fwww.googleapis.com%2fauth%2fdocs.test%20https%3a%2f%2fwww.googleapis.com%2fauth%2fdrive%20https%3a%2f%2fwww.googleapis.com%2fauth%2fdrive.photos.readonly%20https%3a%2f%2fwww.googleapis.com%2fauth%2fpeopleapi.readonly\n",
            "\n",
            "Enter your authorization code:\n",
            "··········\n",
            "Mounted at /content/Drive\n"
          ],
          "name": "stdout"
        }
      ]
    },
    {
      "cell_type": "code",
      "metadata": {
        "id": "L9FhI9QpZZ9S",
        "colab_type": "code",
        "colab": {}
      },
      "source": [
        "baseball_df=pd.read_csv('/content/Drive/My Drive/baseball.csv',low_memory=False)"
      ],
      "execution_count": 0,
      "outputs": []
    },
    {
      "cell_type": "markdown",
      "metadata": {
        "id": "0JqpM96wlncx",
        "colab_type": "text"
      },
      "source": [
        "##Data Examination"
      ]
    },
    {
      "cell_type": "code",
      "metadata": {
        "id": "Aqb4qgTHlriE",
        "colab_type": "code",
        "colab": {
          "base_uri": "https://localhost:8080/",
          "height": 391
        },
        "outputId": "99f5747e-9637-4bd2-e007-afe4870216af"
      },
      "source": [
        "baseball_df.info()"
      ],
      "execution_count": 4,
      "outputs": [
        {
          "output_type": "stream",
          "text": [
            "<class 'pandas.core.frame.DataFrame'>\n",
            "RangeIndex: 1232 entries, 0 to 1231\n",
            "Data columns (total 15 columns):\n",
            " #   Column        Non-Null Count  Dtype  \n",
            "---  ------        --------------  -----  \n",
            " 0   Team          1232 non-null   object \n",
            " 1   League        1232 non-null   object \n",
            " 2   Year          1232 non-null   int64  \n",
            " 3   RS            1232 non-null   int64  \n",
            " 4   RA            1232 non-null   int64  \n",
            " 5   W             1232 non-null   int64  \n",
            " 6   OBP           1232 non-null   float64\n",
            " 7   SLG           1232 non-null   float64\n",
            " 8   BA            1232 non-null   float64\n",
            " 9   Playoffs      1232 non-null   int64  \n",
            " 10  RankSeason    244 non-null    float64\n",
            " 11  RankPlayoffs  244 non-null    float64\n",
            " 12  G             1232 non-null   int64  \n",
            " 13  OOBP          420 non-null    float64\n",
            " 14  OSLG          420 non-null    float64\n",
            "dtypes: float64(7), int64(6), object(2)\n",
            "memory usage: 144.5+ KB\n"
          ],
          "name": "stdout"
        }
      ]
    },
    {
      "cell_type": "code",
      "metadata": {
        "id": "bpmnwbQiE2hF",
        "colab_type": "code",
        "outputId": "ee8cd994-6c08-4f6d-c64b-37b22c181cbd",
        "colab": {
          "base_uri": "https://localhost:8080/",
          "height": 204
        }
      },
      "source": [
        "baseball_df.head()"
      ],
      "execution_count": 5,
      "outputs": [
        {
          "output_type": "execute_result",
          "data": {
            "text/html": [
              "<div>\n",
              "<style scoped>\n",
              "    .dataframe tbody tr th:only-of-type {\n",
              "        vertical-align: middle;\n",
              "    }\n",
              "\n",
              "    .dataframe tbody tr th {\n",
              "        vertical-align: top;\n",
              "    }\n",
              "\n",
              "    .dataframe thead th {\n",
              "        text-align: right;\n",
              "    }\n",
              "</style>\n",
              "<table border=\"1\" class=\"dataframe\">\n",
              "  <thead>\n",
              "    <tr style=\"text-align: right;\">\n",
              "      <th></th>\n",
              "      <th>Team</th>\n",
              "      <th>League</th>\n",
              "      <th>Year</th>\n",
              "      <th>RS</th>\n",
              "      <th>RA</th>\n",
              "      <th>W</th>\n",
              "      <th>OBP</th>\n",
              "      <th>SLG</th>\n",
              "      <th>BA</th>\n",
              "      <th>Playoffs</th>\n",
              "      <th>RankSeason</th>\n",
              "      <th>RankPlayoffs</th>\n",
              "      <th>G</th>\n",
              "      <th>OOBP</th>\n",
              "      <th>OSLG</th>\n",
              "    </tr>\n",
              "  </thead>\n",
              "  <tbody>\n",
              "    <tr>\n",
              "      <th>0</th>\n",
              "      <td>ARI</td>\n",
              "      <td>NL</td>\n",
              "      <td>2012</td>\n",
              "      <td>734</td>\n",
              "      <td>688</td>\n",
              "      <td>81</td>\n",
              "      <td>0.328</td>\n",
              "      <td>0.418</td>\n",
              "      <td>0.259</td>\n",
              "      <td>0</td>\n",
              "      <td>NaN</td>\n",
              "      <td>NaN</td>\n",
              "      <td>162</td>\n",
              "      <td>0.317</td>\n",
              "      <td>0.415</td>\n",
              "    </tr>\n",
              "    <tr>\n",
              "      <th>1</th>\n",
              "      <td>ATL</td>\n",
              "      <td>NL</td>\n",
              "      <td>2012</td>\n",
              "      <td>700</td>\n",
              "      <td>600</td>\n",
              "      <td>94</td>\n",
              "      <td>0.320</td>\n",
              "      <td>0.389</td>\n",
              "      <td>0.247</td>\n",
              "      <td>1</td>\n",
              "      <td>4.0</td>\n",
              "      <td>5.0</td>\n",
              "      <td>162</td>\n",
              "      <td>0.306</td>\n",
              "      <td>0.378</td>\n",
              "    </tr>\n",
              "    <tr>\n",
              "      <th>2</th>\n",
              "      <td>BAL</td>\n",
              "      <td>AL</td>\n",
              "      <td>2012</td>\n",
              "      <td>712</td>\n",
              "      <td>705</td>\n",
              "      <td>93</td>\n",
              "      <td>0.311</td>\n",
              "      <td>0.417</td>\n",
              "      <td>0.247</td>\n",
              "      <td>1</td>\n",
              "      <td>5.0</td>\n",
              "      <td>4.0</td>\n",
              "      <td>162</td>\n",
              "      <td>0.315</td>\n",
              "      <td>0.403</td>\n",
              "    </tr>\n",
              "    <tr>\n",
              "      <th>3</th>\n",
              "      <td>BOS</td>\n",
              "      <td>AL</td>\n",
              "      <td>2012</td>\n",
              "      <td>734</td>\n",
              "      <td>806</td>\n",
              "      <td>69</td>\n",
              "      <td>0.315</td>\n",
              "      <td>0.415</td>\n",
              "      <td>0.260</td>\n",
              "      <td>0</td>\n",
              "      <td>NaN</td>\n",
              "      <td>NaN</td>\n",
              "      <td>162</td>\n",
              "      <td>0.331</td>\n",
              "      <td>0.428</td>\n",
              "    </tr>\n",
              "    <tr>\n",
              "      <th>4</th>\n",
              "      <td>CHC</td>\n",
              "      <td>NL</td>\n",
              "      <td>2012</td>\n",
              "      <td>613</td>\n",
              "      <td>759</td>\n",
              "      <td>61</td>\n",
              "      <td>0.302</td>\n",
              "      <td>0.378</td>\n",
              "      <td>0.240</td>\n",
              "      <td>0</td>\n",
              "      <td>NaN</td>\n",
              "      <td>NaN</td>\n",
              "      <td>162</td>\n",
              "      <td>0.335</td>\n",
              "      <td>0.424</td>\n",
              "    </tr>\n",
              "  </tbody>\n",
              "</table>\n",
              "</div>"
            ],
            "text/plain": [
              "  Team League  Year   RS   RA  ...  RankSeason  RankPlayoffs    G   OOBP   OSLG\n",
              "0  ARI     NL  2012  734  688  ...         NaN           NaN  162  0.317  0.415\n",
              "1  ATL     NL  2012  700  600  ...         4.0           5.0  162  0.306  0.378\n",
              "2  BAL     AL  2012  712  705  ...         5.0           4.0  162  0.315  0.403\n",
              "3  BOS     AL  2012  734  806  ...         NaN           NaN  162  0.331  0.428\n",
              "4  CHC     NL  2012  613  759  ...         NaN           NaN  162  0.335  0.424\n",
              "\n",
              "[5 rows x 15 columns]"
            ]
          },
          "metadata": {
            "tags": []
          },
          "execution_count": 5
        }
      ]
    },
    {
      "cell_type": "code",
      "metadata": {
        "id": "MFoWQeoXdYvg",
        "colab_type": "code",
        "outputId": "491da728-e578-4fef-be42-d96d5805d03e",
        "colab": {
          "base_uri": "https://localhost:8080/",
          "height": 204
        }
      },
      "source": [
        "baseball_df.tail()"
      ],
      "execution_count": 6,
      "outputs": [
        {
          "output_type": "execute_result",
          "data": {
            "text/html": [
              "<div>\n",
              "<style scoped>\n",
              "    .dataframe tbody tr th:only-of-type {\n",
              "        vertical-align: middle;\n",
              "    }\n",
              "\n",
              "    .dataframe tbody tr th {\n",
              "        vertical-align: top;\n",
              "    }\n",
              "\n",
              "    .dataframe thead th {\n",
              "        text-align: right;\n",
              "    }\n",
              "</style>\n",
              "<table border=\"1\" class=\"dataframe\">\n",
              "  <thead>\n",
              "    <tr style=\"text-align: right;\">\n",
              "      <th></th>\n",
              "      <th>Team</th>\n",
              "      <th>League</th>\n",
              "      <th>Year</th>\n",
              "      <th>RS</th>\n",
              "      <th>RA</th>\n",
              "      <th>W</th>\n",
              "      <th>OBP</th>\n",
              "      <th>SLG</th>\n",
              "      <th>BA</th>\n",
              "      <th>Playoffs</th>\n",
              "      <th>RankSeason</th>\n",
              "      <th>RankPlayoffs</th>\n",
              "      <th>G</th>\n",
              "      <th>OOBP</th>\n",
              "      <th>OSLG</th>\n",
              "    </tr>\n",
              "  </thead>\n",
              "  <tbody>\n",
              "    <tr>\n",
              "      <th>1227</th>\n",
              "      <td>PHI</td>\n",
              "      <td>NL</td>\n",
              "      <td>1962</td>\n",
              "      <td>705</td>\n",
              "      <td>759</td>\n",
              "      <td>81</td>\n",
              "      <td>0.330</td>\n",
              "      <td>0.390</td>\n",
              "      <td>0.260</td>\n",
              "      <td>0</td>\n",
              "      <td>NaN</td>\n",
              "      <td>NaN</td>\n",
              "      <td>161</td>\n",
              "      <td>NaN</td>\n",
              "      <td>NaN</td>\n",
              "    </tr>\n",
              "    <tr>\n",
              "      <th>1228</th>\n",
              "      <td>PIT</td>\n",
              "      <td>NL</td>\n",
              "      <td>1962</td>\n",
              "      <td>706</td>\n",
              "      <td>626</td>\n",
              "      <td>93</td>\n",
              "      <td>0.321</td>\n",
              "      <td>0.394</td>\n",
              "      <td>0.268</td>\n",
              "      <td>0</td>\n",
              "      <td>NaN</td>\n",
              "      <td>NaN</td>\n",
              "      <td>161</td>\n",
              "      <td>NaN</td>\n",
              "      <td>NaN</td>\n",
              "    </tr>\n",
              "    <tr>\n",
              "      <th>1229</th>\n",
              "      <td>SFG</td>\n",
              "      <td>NL</td>\n",
              "      <td>1962</td>\n",
              "      <td>878</td>\n",
              "      <td>690</td>\n",
              "      <td>103</td>\n",
              "      <td>0.341</td>\n",
              "      <td>0.441</td>\n",
              "      <td>0.278</td>\n",
              "      <td>1</td>\n",
              "      <td>1.0</td>\n",
              "      <td>2.0</td>\n",
              "      <td>165</td>\n",
              "      <td>NaN</td>\n",
              "      <td>NaN</td>\n",
              "    </tr>\n",
              "    <tr>\n",
              "      <th>1230</th>\n",
              "      <td>STL</td>\n",
              "      <td>NL</td>\n",
              "      <td>1962</td>\n",
              "      <td>774</td>\n",
              "      <td>664</td>\n",
              "      <td>84</td>\n",
              "      <td>0.335</td>\n",
              "      <td>0.394</td>\n",
              "      <td>0.271</td>\n",
              "      <td>0</td>\n",
              "      <td>NaN</td>\n",
              "      <td>NaN</td>\n",
              "      <td>163</td>\n",
              "      <td>NaN</td>\n",
              "      <td>NaN</td>\n",
              "    </tr>\n",
              "    <tr>\n",
              "      <th>1231</th>\n",
              "      <td>WSA</td>\n",
              "      <td>AL</td>\n",
              "      <td>1962</td>\n",
              "      <td>599</td>\n",
              "      <td>716</td>\n",
              "      <td>60</td>\n",
              "      <td>0.308</td>\n",
              "      <td>0.373</td>\n",
              "      <td>0.250</td>\n",
              "      <td>0</td>\n",
              "      <td>NaN</td>\n",
              "      <td>NaN</td>\n",
              "      <td>162</td>\n",
              "      <td>NaN</td>\n",
              "      <td>NaN</td>\n",
              "    </tr>\n",
              "  </tbody>\n",
              "</table>\n",
              "</div>"
            ],
            "text/plain": [
              "     Team League  Year   RS   RA  ...  RankSeason  RankPlayoffs    G  OOBP  OSLG\n",
              "1227  PHI     NL  1962  705  759  ...         NaN           NaN  161   NaN   NaN\n",
              "1228  PIT     NL  1962  706  626  ...         NaN           NaN  161   NaN   NaN\n",
              "1229  SFG     NL  1962  878  690  ...         1.0           2.0  165   NaN   NaN\n",
              "1230  STL     NL  1962  774  664  ...         NaN           NaN  163   NaN   NaN\n",
              "1231  WSA     AL  1962  599  716  ...         NaN           NaN  162   NaN   NaN\n",
              "\n",
              "[5 rows x 15 columns]"
            ]
          },
          "metadata": {
            "tags": []
          },
          "execution_count": 6
        }
      ]
    },
    {
      "cell_type": "code",
      "metadata": {
        "id": "g51-kPQedqCl",
        "colab_type": "code",
        "outputId": "c6797a9b-f534-450d-dec3-80b7df1c749d",
        "colab": {
          "base_uri": "https://localhost:8080/",
          "height": 289
        }
      },
      "source": [
        "#checking how many values in the data are Null\n",
        "baseball_df.isna().sum()"
      ],
      "execution_count": 7,
      "outputs": [
        {
          "output_type": "execute_result",
          "data": {
            "text/plain": [
              "Team              0\n",
              "League            0\n",
              "Year              0\n",
              "RS                0\n",
              "RA                0\n",
              "W                 0\n",
              "OBP               0\n",
              "SLG               0\n",
              "BA                0\n",
              "Playoffs          0\n",
              "RankSeason      988\n",
              "RankPlayoffs    988\n",
              "G                 0\n",
              "OOBP            812\n",
              "OSLG            812\n",
              "dtype: int64"
            ]
          },
          "metadata": {
            "tags": []
          },
          "execution_count": 7
        }
      ]
    },
    {
      "cell_type": "markdown",
      "metadata": {
        "id": "hr7zpD7S6HpW",
        "colab_type": "text"
      },
      "source": [
        "The following list explains what each column represents in the dataset\n",
        "\n",
        "1. RS — Runs Scored\n",
        "2. RA — Runs Allowed\n",
        "3. W — Wins\n",
        "4. OBP — On Base Percentage\n",
        "5. SLG — Slugging Percentage\n",
        "6. BA — Batting Average\n",
        "7. Playoffs — Whether a team made it to playoffs or not\n",
        "8. OOBP — Opponent’s On Base Percentage\n",
        "9. OSLG — Opponents Slugging Percentage\n",
        "10. G - Games played\n",
        "\n",
        "OBP — On Base Percentage: This is a statistic measuring how frequently a batter reaches base, it does not take into account how far the batter runs i.e. third base.\n",
        "\n",
        "\n",
        "SLG — Slugging Percentage: A measure of the batting ‘Productivity’, in simple terms, it measures how far a batter makes it when they hit the ball.\n",
        "\n",
        "\n",
        "BA — Batting Average: Defined by the number of hits divided by at bats, measures how likely a batter is to hit a ball when pitched. Again, does not take into account how far the batter runs."
      ]
    },
    {
      "cell_type": "code",
      "metadata": {
        "id": "m-Olje48p05i",
        "colab_type": "code",
        "colab": {}
      },
      "source": [
        "#run difference\n",
        "baseball_df['RD']=baseball_df['RS']-baseball_df['RA']"
      ],
      "execution_count": 0,
      "outputs": []
    },
    {
      "cell_type": "code",
      "metadata": {
        "id": "NZ2EPvipp_sB",
        "colab_type": "code",
        "colab": {}
      },
      "source": [
        "baseball_df=baseball_df[baseball_df.Year>2000]"
      ],
      "execution_count": 0,
      "outputs": []
    },
    {
      "cell_type": "code",
      "metadata": {
        "id": "-sFfLeYJqIwy",
        "colab_type": "code",
        "colab": {
          "base_uri": "https://localhost:8080/",
          "height": 34
        },
        "outputId": "31eb9a9f-6c76-40ac-e4b6-21e7fa353820"
      },
      "source": [
        "baseball_df.shape"
      ],
      "execution_count": 10,
      "outputs": [
        {
          "output_type": "execute_result",
          "data": {
            "text/plain": [
              "(360, 16)"
            ]
          },
          "metadata": {
            "tags": []
          },
          "execution_count": 10
        }
      ]
    },
    {
      "cell_type": "markdown",
      "metadata": {
        "id": "u_otikKo6lQh",
        "colab_type": "text"
      },
      "source": [
        "We added a new coolumn named RD which represents Run Difference between RS and RA and filtered the years to the last 20 years."
      ]
    },
    {
      "cell_type": "markdown",
      "metadata": {
        "id": "POQrLZM32L2u",
        "colab_type": "text"
      },
      "source": [
        "##Data Exploration"
      ]
    },
    {
      "cell_type": "code",
      "metadata": {
        "id": "YQWqYY2a4byt",
        "colab_type": "code",
        "colab": {
          "base_uri": "https://localhost:8080/",
          "height": 369
        },
        "outputId": "fff30fbe-67f0-4910-b545-ff2e6e93e904"
      },
      "source": [
        "sb.lmplot(x = \"W\", y = \"RS\", fit_reg = False, hue = \"Playoffs\", data=baseball_df)\n",
        "plt.xlabel(\"Wins\")\n",
        "plt.ylabel(\"Runs Scored\")\n",
        "plt.show()"
      ],
      "execution_count": 11,
      "outputs": [
        {
          "output_type": "display_data",
          "data": {
            "image/png": "[encoded data removed]",
            "text/plain": [
              "<Figure size 407.375x360 with 1 Axes>"
            ]
          },
          "metadata": {
            "tags": [],
            "needs_background": "light"
          }
        }
      ]
    },
    {
      "cell_type": "code",
      "metadata": {
        "id": "g5ov4jsnOuPV",
        "colab_type": "code",
        "colab": {
          "base_uri": "https://localhost:8080/",
          "height": 34
        },
        "outputId": "b30dd1ca-b261-41e5-faf7-117c05a2d03f"
      },
      "source": [
        "baseball_df['W'].corr(baseball_df['RS'])"
      ],
      "execution_count": 12,
      "outputs": [
        {
          "output_type": "execute_result",
          "data": {
            "text/plain": [
              "0.57850158545511"
            ]
          },
          "metadata": {
            "tags": []
          },
          "execution_count": 12
        }
      ]
    },
    {
      "cell_type": "code",
      "metadata": {
        "id": "VNYa8rUC_5ol",
        "colab_type": "code",
        "colab": {
          "base_uri": "https://localhost:8080/",
          "height": 295
        },
        "outputId": "6bfe8f3f-1cb6-460c-c1e7-b8d86d9df1db"
      },
      "source": [
        "x = np.array(baseball_df.RD)\n",
        "y = np.array(baseball_df.W)\n",
        "slope, intercept = np.polyfit(x, y, 1)\n",
        "abline_values = [slope * i + intercept for i in x]\n",
        "plt.scatter(baseball_df.RD, baseball_df.W)\n",
        "plt.plot(x, abline_values,'b')\n",
        "plt.title(\"Slope = %s\" % (slope))\n",
        "plt.xlabel(\"Run Difference\")\n",
        "plt.ylabel(\"Wins\")\n",
        "plt.show()"
      ],
      "execution_count": 13,
      "outputs": [
        {
          "output_type": "display_data",
          "data": {
            "image/png": "[encoded data removed]",
            "text/plain": [
              "<Figure size 432x288 with 1 Axes>"
            ]
          },
          "metadata": {
            "tags": [],
            "needs_background": "light"
          }
        }
      ]
    },
    {
      "cell_type": "code",
      "metadata": {
        "id": "oyUO1yEWOlhU",
        "colab_type": "code",
        "colab": {
          "base_uri": "https://localhost:8080/",
          "height": 34
        },
        "outputId": "bbe6cc7f-fb87-47a7-e1a4-9e5351b00482"
      },
      "source": [
        "baseball_df['W'].corr(baseball_df['RD'])"
      ],
      "execution_count": 14,
      "outputs": [
        {
          "output_type": "execute_result",
          "data": {
            "text/plain": [
              "0.9386297182521279"
            ]
          },
          "metadata": {
            "tags": []
          },
          "execution_count": 14
        }
      ]
    },
    {
      "cell_type": "code",
      "metadata": {
        "id": "RjO3NlUgEzaD",
        "colab_type": "code",
        "colab": {
          "base_uri": "https://localhost:8080/",
          "height": 297
        },
        "outputId": "3a98d2a7-ff9d-4434-81cb-74f0b5b4da7a"
      },
      "source": [
        "baseball_df[['W','RS','RD']].describe()"
      ],
      "execution_count": 15,
      "outputs": [
        {
          "output_type": "execute_result",
          "data": {
            "text/html": [
              "<div>\n",
              "<style scoped>\n",
              "    .dataframe tbody tr th:only-of-type {\n",
              "        vertical-align: middle;\n",
              "    }\n",
              "\n",
              "    .dataframe tbody tr th {\n",
              "        vertical-align: top;\n",
              "    }\n",
              "\n",
              "    .dataframe thead th {\n",
              "        text-align: right;\n",
              "    }\n",
              "</style>\n",
              "<table border=\"1\" class=\"dataframe\">\n",
              "  <thead>\n",
              "    <tr style=\"text-align: right;\">\n",
              "      <th></th>\n",
              "      <th>W</th>\n",
              "      <th>RS</th>\n",
              "      <th>RD</th>\n",
              "    </tr>\n",
              "  </thead>\n",
              "  <tbody>\n",
              "    <tr>\n",
              "      <th>count</th>\n",
              "      <td>360.000000</td>\n",
              "      <td>360.000000</td>\n",
              "      <td>360.000000</td>\n",
              "    </tr>\n",
              "    <tr>\n",
              "      <th>mean</th>\n",
              "      <td>80.963889</td>\n",
              "      <td>748.177778</td>\n",
              "      <td>0.000000</td>\n",
              "    </tr>\n",
              "    <tr>\n",
              "      <th>std</th>\n",
              "      <td>11.725330</td>\n",
              "      <td>78.933960</td>\n",
              "      <td>108.153455</td>\n",
              "    </tr>\n",
              "    <tr>\n",
              "      <th>min</th>\n",
              "      <td>43.000000</td>\n",
              "      <td>513.000000</td>\n",
              "      <td>-337.000000</td>\n",
              "    </tr>\n",
              "    <tr>\n",
              "      <th>25%</th>\n",
              "      <td>72.000000</td>\n",
              "      <td>697.000000</td>\n",
              "      <td>-79.750000</td>\n",
              "    </tr>\n",
              "    <tr>\n",
              "      <th>50%</th>\n",
              "      <td>82.000000</td>\n",
              "      <td>743.000000</td>\n",
              "      <td>7.000000</td>\n",
              "    </tr>\n",
              "    <tr>\n",
              "      <th>75%</th>\n",
              "      <td>90.000000</td>\n",
              "      <td>801.250000</td>\n",
              "      <td>81.000000</td>\n",
              "    </tr>\n",
              "    <tr>\n",
              "      <th>max</th>\n",
              "      <td>116.000000</td>\n",
              "      <td>968.000000</td>\n",
              "      <td>300.000000</td>\n",
              "    </tr>\n",
              "  </tbody>\n",
              "</table>\n",
              "</div>"
            ],
            "text/plain": [
              "                W          RS          RD\n",
              "count  360.000000  360.000000  360.000000\n",
              "mean    80.963889  748.177778    0.000000\n",
              "std     11.725330   78.933960  108.153455\n",
              "min     43.000000  513.000000 -337.000000\n",
              "25%     72.000000  697.000000  -79.750000\n",
              "50%     82.000000  743.000000    7.000000\n",
              "75%     90.000000  801.250000   81.000000\n",
              "max    116.000000  968.000000  300.000000"
            ]
          },
          "metadata": {
            "tags": []
          },
          "execution_count": 15
        }
      ]
    },
    {
      "cell_type": "code",
      "metadata": {
        "id": "-VbhK5i_Kqzx",
        "colab_type": "code",
        "colab": {
          "base_uri": "https://localhost:8080/",
          "height": 712
        },
        "outputId": "047f685c-257b-4f96-a9cc-91240b6fb095"
      },
      "source": [
        "corrcheck = baseball_df[['RD', 'W', 'Playoffs']].copy()\n",
        "g = sb.pairplot(corrcheck, hue = 'Playoffs',vars=[\"RD\", \"W\"])\n",
        "g.fig.set_size_inches(14,10)"
      ],
      "execution_count": 16,
      "outputs": [
        {
          "output_type": "display_data",
          "data": {
            "image/png": "[encoded data removed]",
            "text/plain": [
              "<Figure size 1008x720 with 6 Axes>"
            ]
          },
          "metadata": {
            "tags": [],
            "needs_background": "light"
          }
        }
      ]
    },
    {
      "cell_type": "code",
      "metadata": {
        "id": "t93Wp0biPHqH",
        "colab_type": "code",
        "colab": {
          "base_uri": "https://localhost:8080/",
          "height": 142
        },
        "outputId": "b973fee7-4688-4dc7-9e63-6141e6a823a4"
      },
      "source": [
        "corrcheck.corr(method='pearson')"
      ],
      "execution_count": 17,
      "outputs": [
        {
          "output_type": "execute_result",
          "data": {
            "text/html": [
              "<div>\n",
              "<style scoped>\n",
              "    .dataframe tbody tr th:only-of-type {\n",
              "        vertical-align: middle;\n",
              "    }\n",
              "\n",
              "    .dataframe tbody tr th {\n",
              "        vertical-align: top;\n",
              "    }\n",
              "\n",
              "    .dataframe thead th {\n",
              "        text-align: right;\n",
              "    }\n",
              "</style>\n",
              "<table border=\"1\" class=\"dataframe\">\n",
              "  <thead>\n",
              "    <tr style=\"text-align: right;\">\n",
              "      <th></th>\n",
              "      <th>RD</th>\n",
              "      <th>W</th>\n",
              "      <th>Playoffs</th>\n",
              "    </tr>\n",
              "  </thead>\n",
              "  <tbody>\n",
              "    <tr>\n",
              "      <th>RD</th>\n",
              "      <td>1.000000</td>\n",
              "      <td>0.938630</td>\n",
              "      <td>0.636653</td>\n",
              "    </tr>\n",
              "    <tr>\n",
              "      <th>W</th>\n",
              "      <td>0.938630</td>\n",
              "      <td>1.000000</td>\n",
              "      <td>0.698498</td>\n",
              "    </tr>\n",
              "    <tr>\n",
              "      <th>Playoffs</th>\n",
              "      <td>0.636653</td>\n",
              "      <td>0.698498</td>\n",
              "      <td>1.000000</td>\n",
              "    </tr>\n",
              "  </tbody>\n",
              "</table>\n",
              "</div>"
            ],
            "text/plain": [
              "                RD         W  Playoffs\n",
              "RD        1.000000  0.938630  0.636653\n",
              "W         0.938630  1.000000  0.698498\n",
              "Playoffs  0.636653  0.698498  1.000000"
            ]
          },
          "metadata": {
            "tags": []
          },
          "execution_count": 17
        }
      ]
    },
    {
      "cell_type": "markdown",
      "metadata": {
        "id": "WoMnojBPtAQ7",
        "colab_type": "text"
      },
      "source": [
        "##test/model"
      ]
    },
    {
      "cell_type": "code",
      "metadata": {
        "id": "NZ6AIJ85PM83",
        "colab_type": "code",
        "colab": {}
      },
      "source": [
        "podesta = baseball_df[['OBP','SLG','BA','RS']]"
      ],
      "execution_count": 0,
      "outputs": []
    },
    {
      "cell_type": "code",
      "metadata": {
        "id": "0sk6zb40tDnj",
        "colab_type": "code",
        "colab": {
          "base_uri": "https://localhost:8080/",
          "height": 419
        },
        "outputId": "15810635-4f3b-49b1-8064-135adf3ed48d"
      },
      "source": [
        "podesta"
      ],
      "execution_count": 19,
      "outputs": [
        {
          "output_type": "execute_result",
          "data": {
            "text/html": [
              "<div>\n",
              "<style scoped>\n",
              "    .dataframe tbody tr th:only-of-type {\n",
              "        vertical-align: middle;\n",
              "    }\n",
              "\n",
              "    .dataframe tbody tr th {\n",
              "        vertical-align: top;\n",
              "    }\n",
              "\n",
              "    .dataframe thead th {\n",
              "        text-align: right;\n",
              "    }\n",
              "</style>\n",
              "<table border=\"1\" class=\"dataframe\">\n",
              "  <thead>\n",
              "    <tr style=\"text-align: right;\">\n",
              "      <th></th>\n",
              "      <th>OBP</th>\n",
              "      <th>SLG</th>\n",
              "      <th>BA</th>\n",
              "      <th>RS</th>\n",
              "    </tr>\n",
              "  </thead>\n",
              "  <tbody>\n",
              "    <tr>\n",
              "      <th>0</th>\n",
              "      <td>0.328</td>\n",
              "      <td>0.418</td>\n",
              "      <td>0.259</td>\n",
              "      <td>734</td>\n",
              "    </tr>\n",
              "    <tr>\n",
              "      <th>1</th>\n",
              "      <td>0.320</td>\n",
              "      <td>0.389</td>\n",
              "      <td>0.247</td>\n",
              "      <td>700</td>\n",
              "    </tr>\n",
              "    <tr>\n",
              "      <th>2</th>\n",
              "      <td>0.311</td>\n",
              "      <td>0.417</td>\n",
              "      <td>0.247</td>\n",
              "      <td>712</td>\n",
              "    </tr>\n",
              "    <tr>\n",
              "      <th>3</th>\n",
              "      <td>0.315</td>\n",
              "      <td>0.415</td>\n",
              "      <td>0.260</td>\n",
              "      <td>734</td>\n",
              "    </tr>\n",
              "    <tr>\n",
              "      <th>4</th>\n",
              "      <td>0.302</td>\n",
              "      <td>0.378</td>\n",
              "      <td>0.240</td>\n",
              "      <td>613</td>\n",
              "    </tr>\n",
              "    <tr>\n",
              "      <th>...</th>\n",
              "      <td>...</td>\n",
              "      <td>...</td>\n",
              "      <td>...</td>\n",
              "      <td>...</td>\n",
              "    </tr>\n",
              "    <tr>\n",
              "      <th>355</th>\n",
              "      <td>0.342</td>\n",
              "      <td>0.460</td>\n",
              "      <td>0.266</td>\n",
              "      <td>799</td>\n",
              "    </tr>\n",
              "    <tr>\n",
              "      <th>356</th>\n",
              "      <td>0.339</td>\n",
              "      <td>0.441</td>\n",
              "      <td>0.270</td>\n",
              "      <td>814</td>\n",
              "    </tr>\n",
              "    <tr>\n",
              "      <th>357</th>\n",
              "      <td>0.320</td>\n",
              "      <td>0.388</td>\n",
              "      <td>0.258</td>\n",
              "      <td>672</td>\n",
              "    </tr>\n",
              "    <tr>\n",
              "      <th>358</th>\n",
              "      <td>0.344</td>\n",
              "      <td>0.471</td>\n",
              "      <td>0.275</td>\n",
              "      <td>890</td>\n",
              "    </tr>\n",
              "    <tr>\n",
              "      <th>359</th>\n",
              "      <td>0.325</td>\n",
              "      <td>0.430</td>\n",
              "      <td>0.263</td>\n",
              "      <td>767</td>\n",
              "    </tr>\n",
              "  </tbody>\n",
              "</table>\n",
              "<p>360 rows × 4 columns</p>\n",
              "</div>"
            ],
            "text/plain": [
              "       OBP    SLG     BA   RS\n",
              "0    0.328  0.418  0.259  734\n",
              "1    0.320  0.389  0.247  700\n",
              "2    0.311  0.417  0.247  712\n",
              "3    0.315  0.415  0.260  734\n",
              "4    0.302  0.378  0.240  613\n",
              "..     ...    ...    ...  ...\n",
              "355  0.342  0.460  0.266  799\n",
              "356  0.339  0.441  0.270  814\n",
              "357  0.320  0.388  0.258  672\n",
              "358  0.344  0.471  0.275  890\n",
              "359  0.325  0.430  0.263  767\n",
              "\n",
              "[360 rows x 4 columns]"
            ]
          },
          "metadata": {
            "tags": []
          },
          "execution_count": 19
        }
      ]
    },
    {
      "cell_type": "code",
      "metadata": {
        "id": "R41DNvWXtM2v",
        "colab_type": "code",
        "colab": {
          "base_uri": "https://localhost:8080/",
          "height": 173
        },
        "outputId": "193e8d71-27ce-4126-fbb3-5d34741de47f"
      },
      "source": [
        "podesta.corr()"
      ],
      "execution_count": 20,
      "outputs": [
        {
          "output_type": "execute_result",
          "data": {
            "text/html": [
              "<div>\n",
              "<style scoped>\n",
              "    .dataframe tbody tr th:only-of-type {\n",
              "        vertical-align: middle;\n",
              "    }\n",
              "\n",
              "    .dataframe tbody tr th {\n",
              "        vertical-align: top;\n",
              "    }\n",
              "\n",
              "    .dataframe thead th {\n",
              "        text-align: right;\n",
              "    }\n",
              "</style>\n",
              "<table border=\"1\" class=\"dataframe\">\n",
              "  <thead>\n",
              "    <tr style=\"text-align: right;\">\n",
              "      <th></th>\n",
              "      <th>OBP</th>\n",
              "      <th>SLG</th>\n",
              "      <th>BA</th>\n",
              "      <th>RS</th>\n",
              "    </tr>\n",
              "  </thead>\n",
              "  <tbody>\n",
              "    <tr>\n",
              "      <th>OBP</th>\n",
              "      <td>1.000000</td>\n",
              "      <td>0.761706</td>\n",
              "      <td>0.829639</td>\n",
              "      <td>0.877979</td>\n",
              "    </tr>\n",
              "    <tr>\n",
              "      <th>SLG</th>\n",
              "      <td>0.761706</td>\n",
              "      <td>1.000000</td>\n",
              "      <td>0.738862</td>\n",
              "      <td>0.911354</td>\n",
              "    </tr>\n",
              "    <tr>\n",
              "      <th>BA</th>\n",
              "      <td>0.829639</td>\n",
              "      <td>0.738862</td>\n",
              "      <td>1.000000</td>\n",
              "      <td>0.795126</td>\n",
              "    </tr>\n",
              "    <tr>\n",
              "      <th>RS</th>\n",
              "      <td>0.877979</td>\n",
              "      <td>0.911354</td>\n",
              "      <td>0.795126</td>\n",
              "      <td>1.000000</td>\n",
              "    </tr>\n",
              "  </tbody>\n",
              "</table>\n",
              "</div>"
            ],
            "text/plain": [
              "          OBP       SLG        BA        RS\n",
              "OBP  1.000000  0.761706  0.829639  0.877979\n",
              "SLG  0.761706  1.000000  0.738862  0.911354\n",
              "BA   0.829639  0.738862  1.000000  0.795126\n",
              "RS   0.877979  0.911354  0.795126  1.000000"
            ]
          },
          "metadata": {
            "tags": []
          },
          "execution_count": 20
        }
      ]
    },
    {
      "cell_type": "code",
      "metadata": {
        "id": "0k4qDMEEtTkX",
        "colab_type": "code",
        "colab": {
          "base_uri": "https://localhost:8080/",
          "height": 316
        },
        "outputId": "355d5882-4420-454d-ae39-a63453612469"
      },
      "source": [
        "in_base=baseball_df[['BA','SLG','OBP']] # independent\n",
        "de_base=baseball_df['RD']\n",
        "\n",
        "model = LinearRegression()\n",
        "# fit the model\n",
        "model.fit(in_base, de_base)\n",
        "# get importance\n",
        "importance = model.coef_\n",
        "\n",
        "for x, y in zip(importance,in_base.columns):\n",
        "  print(y,':',x)\n",
        "# plot feature importance\n",
        "plt.bar([x for x in range(len(importance))], importance)\n",
        "plt.show()"
      ],
      "execution_count": 33,
      "outputs": [
        {
          "output_type": "stream",
          "text": [
            "BA : -1901.548137978777\n",
            "SLG : 1159.4853943102507\n",
            "OBP : 4479.074267941916\n"
          ],
          "name": "stdout"
        },
        {
          "output_type": "display_data",
          "data": {
            "image/png": "[encoded data removed]",
            "text/plain": [
              "<Figure size 432x288 with 1 Axes>"
            ]
          },
          "metadata": {
            "tags": [],
            "needs_background": "light"
          }
        }
      ]
    },
    {
      "cell_type": "code",
      "metadata": {
        "id": "CCftRewjZ8bV",
        "colab_type": "code",
        "colab": {
          "base_uri": "https://localhost:8080/",
          "height": 34
        },
        "outputId": "f9ab1a10-af14-4bbd-8ab3-18ff6b75cd4e"
      },
      "source": [
        "importance.shape"
      ],
      "execution_count": 29,
      "outputs": [
        {
          "output_type": "execute_result",
          "data": {
            "text/plain": [
              "(3,)"
            ]
          },
          "metadata": {
            "tags": []
          },
          "execution_count": 29
        }
      ]
    },
    {
      "cell_type": "code",
      "metadata": {
        "id": "tfnexn5zhA9v",
        "colab_type": "code",
        "colab": {}
      },
      "source": [
        ""
      ],
      "execution_count": 0,
      "outputs": []
    },
    {
      "cell_type": "markdown",
      "metadata": {
        "id": "OFwRN8Dbh2Sc",
        "colab_type": "text"
      },
      "source": [
        "##Model"
      ]
    },
    {
      "cell_type": "code",
      "metadata": {
        "id": "F_wv3jLTh3id",
        "colab_type": "code",
        "colab": {
          "base_uri": "https://localhost:8080/",
          "height": 51
        },
        "outputId": "05e45c2d-55a0-4d51-fb7a-b22bf3992114"
      },
      "source": [
        "x = baseball_df[['OBP','SLG']].values\n",
        "y = baseball_df[['RS']].values \n",
        "Runs = LinearRegression() \n",
        "Runs.fit(x,y)\n",
        "print(Runs.intercept_) \n",
        "print(Runs.coef_)"
      ],
      "execution_count": 36,
      "outputs": [
        {
          "output_type": "stream",
          "text": [
            "[-863.98570627]\n",
            "[[2629.98262323 1782.74782661]]\n"
          ],
          "name": "stdout"
        }
      ]
    },
    {
      "cell_type": "code",
      "metadata": {
        "id": "pKpEbIYrkc2m",
        "colab_type": "code",
        "colab": {
          "base_uri": "https://localhost:8080/",
          "height": 51
        },
        "outputId": "a258098f-eb5d-4829-f8fb-fc8a10c1e93e"
      },
      "source": [
        "x = baseball_df[['OOBP','OSLG']].values\n",
        "y = baseball_df[['RA']].values\n",
        "RunsAllowed = LinearRegression()\n",
        "RunsAllowed.fit(x,y)\n",
        " \n",
        "print(RunsAllowed.intercept_)\n",
        "print(RunsAllowed.coef_)"
      ],
      "execution_count": 37,
      "outputs": [
        {
          "output_type": "stream",
          "text": [
            "[-857.69785009]\n",
            "[[2789.36554242 1641.90047463]]\n"
          ],
          "name": "stdout"
        }
      ]
    },
    {
      "cell_type": "code",
      "metadata": {
        "id": "s1Y6_IJ5k1-C",
        "colab_type": "code",
        "colab": {
          "base_uri": "https://localhost:8080/",
          "height": 51
        },
        "outputId": "b1358a4d-d5e9-46cf-876a-94df695cbe0e"
      },
      "source": [
        "x = baseball_df[['RD']].values\n",
        "y = baseball_df[['W']].values\n",
        "Wins = LinearRegression()\n",
        "Wins.fit(x,y)\n",
        " \n",
        "print(Wins.intercept_)\n",
        "print(Wins.coef_)"
      ],
      "execution_count": 38,
      "outputs": [
        {
          "output_type": "stream",
          "text": [
            "[80.96388889]\n",
            "[[0.10176044]]\n"
          ],
          "name": "stdout"
        }
      ]
    },
    {
      "cell_type": "code",
      "metadata": {
        "id": "QKT-B_Hvk8wB",
        "colab_type": "code",
        "colab": {}
      },
      "source": [
        ""
      ],
      "execution_count": 0,
      "outputs": []
    }
  ]
}